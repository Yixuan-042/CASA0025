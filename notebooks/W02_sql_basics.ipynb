{
  "cells": [
    {
      "cell_type": "markdown",
      "metadata": {
        "id": "v7t7DIvgmCMX"
      },
      "source": [
        "# SQL Basics\n",
        "\n",
        "## Introduction\n",
        "\n",
        "This notebook is a short introduction to SQL. It is based on the [DuckDB](https://duckdb.org/) database engine.\n",
        "\n",
        "## Datasets\n",
        "\n",
        "The following datasets are used in this notebook. You don't need to download them, they can be accessed directly from the notebook.\n",
        "\n",
        "- [cities.csv](https://open.gishub.org/data/duckdb/cities.csv)\n",
        "- [countries.csv](https://open.gishub.org/data/duckdb/countries.csv)\n",
        "\n",
        "## References\n",
        "\n",
        "- [W3Schools SQL Tutorial](https://www.w3schools.com/sql)\n",
        "- [DuckDB SQL Introduction](https://duckdb.org/docs/sql/introduction.html)"
      ],
      "id": "v7t7DIvgmCMX"
    },
    {
      "cell_type": "markdown",
      "metadata": {
        "id": "RaKkj5WlmCMY"
      },
      "source": [
        "## Installation\n",
        "\n",
        "Uncomment the following cell to install the required packages."
      ],
      "id": "RaKkj5WlmCMY"
    },
    {
      "cell_type": "code",
      "execution_count": 54,
      "metadata": {
        "id": "IluFu6Q5mCMY",
        "outputId": "4d1b022a-5cee-49ea-81be-7f080a46ab3e",
        "colab": {
          "base_uri": "https://localhost:8080/"
        }
      },
      "outputs": [
        {
          "output_type": "stream",
          "name": "stdout",
          "text": [
            "Requirement already satisfied: duckdb in /usr/local/lib/python3.11/dist-packages (1.1.3)\n",
            "Requirement already satisfied: duckdb-engine in /usr/local/lib/python3.11/dist-packages (0.15.0)\n",
            "Requirement already satisfied: jupysql in /usr/local/lib/python3.11/dist-packages (0.10.17)\n",
            "Requirement already satisfied: packaging>=21 in /usr/local/lib/python3.11/dist-packages (from duckdb-engine) (24.2)\n",
            "Requirement already satisfied: sqlalchemy>=1.3.22 in /usr/local/lib/python3.11/dist-packages (from duckdb-engine) (2.0.37)\n",
            "Requirement already satisfied: prettytable>=3.12.0 in /usr/local/lib/python3.11/dist-packages (from jupysql) (3.12.0)\n",
            "Requirement already satisfied: sqlparse in /usr/local/lib/python3.11/dist-packages (from jupysql) (0.5.3)\n",
            "Requirement already satisfied: ipython-genutils>=0.1.0 in /usr/local/lib/python3.11/dist-packages (from jupysql) (0.2.0)\n",
            "Requirement already satisfied: jinja2 in /usr/local/lib/python3.11/dist-packages (from jupysql) (3.1.5)\n",
            "Requirement already satisfied: sqlglot>=11.3.7 in /usr/local/lib/python3.11/dist-packages (from jupysql) (25.1.0)\n",
            "Requirement already satisfied: jupysql-plugin>=0.4.2 in /usr/local/lib/python3.11/dist-packages (from jupysql) (0.4.5)\n",
            "Requirement already satisfied: ploomber-core>=0.2.7 in /usr/local/lib/python3.11/dist-packages (from jupysql) (0.2.26)\n",
            "Requirement already satisfied: pyyaml in /usr/local/lib/python3.11/dist-packages (from ploomber-core>=0.2.7->jupysql) (6.0.2)\n",
            "Requirement already satisfied: posthog in /usr/local/lib/python3.11/dist-packages (from ploomber-core>=0.2.7->jupysql) (3.8.4)\n",
            "Requirement already satisfied: wcwidth in /usr/local/lib/python3.11/dist-packages (from prettytable>=3.12.0->jupysql) (0.2.13)\n",
            "Requirement already satisfied: greenlet!=0.4.17 in /usr/local/lib/python3.11/dist-packages (from sqlalchemy>=1.3.22->duckdb-engine) (3.1.1)\n",
            "Requirement already satisfied: typing-extensions>=4.6.0 in /usr/local/lib/python3.11/dist-packages (from sqlalchemy>=1.3.22->duckdb-engine) (4.12.2)\n",
            "Requirement already satisfied: MarkupSafe>=2.0 in /usr/local/lib/python3.11/dist-packages (from jinja2->jupysql) (3.0.2)\n",
            "Requirement already satisfied: requests<3.0,>=2.7 in /usr/local/lib/python3.11/dist-packages (from posthog->ploomber-core>=0.2.7->jupysql) (2.32.3)\n",
            "Requirement already satisfied: six>=1.5 in /usr/local/lib/python3.11/dist-packages (from posthog->ploomber-core>=0.2.7->jupysql) (1.17.0)\n",
            "Requirement already satisfied: monotonic>=1.5 in /usr/local/lib/python3.11/dist-packages (from posthog->ploomber-core>=0.2.7->jupysql) (1.6)\n",
            "Requirement already satisfied: backoff>=1.10.0 in /usr/local/lib/python3.11/dist-packages (from posthog->ploomber-core>=0.2.7->jupysql) (2.2.1)\n",
            "Requirement already satisfied: python-dateutil>2.1 in /usr/local/lib/python3.11/dist-packages (from posthog->ploomber-core>=0.2.7->jupysql) (2.8.2)\n",
            "Requirement already satisfied: charset-normalizer<4,>=2 in /usr/local/lib/python3.11/dist-packages (from requests<3.0,>=2.7->posthog->ploomber-core>=0.2.7->jupysql) (3.4.1)\n",
            "Requirement already satisfied: idna<4,>=2.5 in /usr/local/lib/python3.11/dist-packages (from requests<3.0,>=2.7->posthog->ploomber-core>=0.2.7->jupysql) (3.10)\n",
            "Requirement already satisfied: urllib3<3,>=1.21.1 in /usr/local/lib/python3.11/dist-packages (from requests<3.0,>=2.7->posthog->ploomber-core>=0.2.7->jupysql) (2.3.0)\n",
            "Requirement already satisfied: certifi>=2017.4.17 in /usr/local/lib/python3.11/dist-packages (from requests<3.0,>=2.7->posthog->ploomber-core>=0.2.7->jupysql) (2024.12.14)\n"
          ]
        }
      ],
      "source": [
        "%pip install duckdb duckdb-engine jupysql"
      ],
      "id": "IluFu6Q5mCMY"
    },
    {
      "cell_type": "markdown",
      "metadata": {
        "id": "EoqDv3unmCMY"
      },
      "source": [
        "## Library Import and Configuration"
      ],
      "id": "EoqDv3unmCMY"
    },
    {
      "cell_type": "code",
      "execution_count": 55,
      "metadata": {
        "id": "4x5_IbbymCMZ",
        "outputId": "744894be-ed7b-499a-97b8-2413dfa2dbdf",
        "colab": {
          "base_uri": "https://localhost:8080/"
        }
      },
      "outputs": [
        {
          "output_type": "stream",
          "name": "stdout",
          "text": [
            "The sql extension is already loaded. To reload it, use:\n",
            "  %reload_ext sql\n"
          ]
        }
      ],
      "source": [
        "import duckdb\n",
        "import pandas as pd\n",
        "\n",
        "# Import jupysql Jupyter extension to create SQL cells\n",
        "%load_ext sql"
      ],
      "id": "4x5_IbbymCMZ"
    },
    {
      "cell_type": "markdown",
      "metadata": {
        "id": "nvm-q86VmCMZ"
      },
      "source": [
        "Set configurations on jupysql to directly output data to Pandas and to simplify the output that is printed to the notebook."
      ],
      "id": "nvm-q86VmCMZ"
    },
    {
      "cell_type": "code",
      "execution_count": 56,
      "metadata": {
        "id": "z4ribLcOmCMZ"
      },
      "outputs": [],
      "source": [
        "%config SqlMagic.autopandas = True\n",
        "%config SqlMagic.feedback = False\n",
        "%config SqlMagic.displaycon = False"
      ],
      "id": "z4ribLcOmCMZ"
    },
    {
      "cell_type": "markdown",
      "metadata": {
        "id": "YPBpX0bZmCMZ"
      },
      "source": [
        "## Connecting to DuckDB\n",
        "\n",
        "Connect jupysql to DuckDB using a SQLAlchemy-style connection string. You may either connect to an in memory DuckDB, or a file backed db."
      ],
      "id": "YPBpX0bZmCMZ"
    },
    {
      "cell_type": "code",
      "execution_count": 57,
      "metadata": {
        "id": "DHQnGNjQmCMZ"
      },
      "outputs": [],
      "source": [
        "%sql duckdb:///:memory:\n",
        "# %sql duckdb:///path/to/file.db"
      ],
      "id": "DHQnGNjQmCMZ"
    },
    {
      "cell_type": "markdown",
      "metadata": {
        "id": "dAGKVE41mCMZ"
      },
      "source": [
        " If your SQL query is one line only, you may use the `%sql` magic command. For multi-line SQL query, you may use the `%%sql` magic command."
      ],
      "id": "dAGKVE41mCMZ"
    },
    {
      "cell_type": "markdown",
      "metadata": {
        "id": "A_UbTkyGmCMZ"
      },
      "source": [
        "## Install extensions"
      ],
      "id": "A_UbTkyGmCMZ"
    },
    {
      "cell_type": "markdown",
      "metadata": {
        "id": "v26SUz57mCMZ"
      },
      "source": [
        "\n",
        "Check available DuckDB extensions."
      ],
      "id": "v26SUz57mCMZ"
    },
    {
      "cell_type": "code",
      "execution_count": 58,
      "metadata": {
        "id": "Nd76xHWUmCMZ",
        "outputId": "34c82b70-6308-4ebd-cafe-77c11ba42829",
        "colab": {
          "base_uri": "https://localhost:8080/",
          "height": 1000
        }
      },
      "outputs": [
        {
          "output_type": "execute_result",
          "data": {
            "text/plain": [
              "      extension_name  loaded  installed  \\\n",
              "0              arrow   False      False   \n",
              "1       autocomplete   False      False   \n",
              "2                aws   False      False   \n",
              "3              azure   False      False   \n",
              "4              delta   False      False   \n",
              "5              excel   False      False   \n",
              "6                fts   False       True   \n",
              "7             httpfs    True       True   \n",
              "8            iceberg   False      False   \n",
              "9                icu    True       True   \n",
              "10              inet   False      False   \n",
              "11          jemalloc    True       True   \n",
              "12              json    True       True   \n",
              "13        motherduck   False      False   \n",
              "14     mysql_scanner   False      False   \n",
              "15           parquet    True       True   \n",
              "16  postgres_scanner   False      False   \n",
              "17           spatial   False      False   \n",
              "18    sqlite_scanner   False      False   \n",
              "19         substrait   False      False   \n",
              "20             tpcds    True       True   \n",
              "21              tpch    True       True   \n",
              "22               vss   False      False   \n",
              "\n",
              "                                         install_path  \\\n",
              "0                                                       \n",
              "1                                                       \n",
              "2                                                       \n",
              "3                                                       \n",
              "4                                                       \n",
              "5                                                       \n",
              "6                                          (BUILT-IN)   \n",
              "7   /root/.duckdb/extensions/v1.1.3/linux_amd64_gc...   \n",
              "8                                                       \n",
              "9                                          (BUILT-IN)   \n",
              "10                                                      \n",
              "11                                         (BUILT-IN)   \n",
              "12                                         (BUILT-IN)   \n",
              "13                                                      \n",
              "14                                                      \n",
              "15                                         (BUILT-IN)   \n",
              "16                                                      \n",
              "17                                                      \n",
              "18                                                      \n",
              "19                                                      \n",
              "20                                         (BUILT-IN)   \n",
              "21                                         (BUILT-IN)   \n",
              "22                                                      \n",
              "\n",
              "                                          description            aliases  \\\n",
              "0   A zero-copy data integration between Apache Ar...                 []   \n",
              "1          Adds support for autocomplete in the shell                 []   \n",
              "2        Provides features that depend on the AWS SDK                 []   \n",
              "3   Adds a filesystem abstraction for Azure blob s...                 []   \n",
              "4                         Adds support for Delta Lake                 []   \n",
              "5          Adds support for Excel-like format strings                 []   \n",
              "6           Adds support for Full-Text Search Indexes                 []   \n",
              "7   Adds support for reading and writing files ove...  [http, https, s3]   \n",
              "8                     Adds support for Apache Iceberg                 []   \n",
              "9   Adds support for time zones and collations usi...                 []   \n",
              "10  Adds support for IP-related data types and fun...                 []   \n",
              "11          Overwrites system allocator with JEMalloc                 []   \n",
              "12                   Adds support for JSON operations                 []   \n",
              "13     Enables motherduck integration with the system               [md]   \n",
              "14    Adds support for connecting to a MySQL database            [mysql]   \n",
              "15  Adds support for reading and writing parquet f...                 []   \n",
              "16  Adds support for connecting to a Postgres data...         [postgres]   \n",
              "17  Geospatial extension that adds support for wor...                 []   \n",
              "18  Adds support for reading and writing SQLite da...  [sqlite, sqlite3]   \n",
              "19         Adds support for the Substrait integration                 []   \n",
              "20      Adds TPC-DS data generation and query support                 []   \n",
              "21       Adds TPC-H data generation and query support                 []   \n",
              "22  Adds indexing support to accelerate Vector Sim...                 []   \n",
              "\n",
              "   extension_version       install_mode installed_from  \n",
              "0                                  None                 \n",
              "1                                  None                 \n",
              "2                                  None                 \n",
              "3                                  None                 \n",
              "4                                  None                 \n",
              "5                                  None                 \n",
              "6                     STATICALLY_LINKED                 \n",
              "7             v1.1.3         REPOSITORY           core  \n",
              "8                                  None                 \n",
              "9                     STATICALLY_LINKED                 \n",
              "10                                 None                 \n",
              "11                    STATICALLY_LINKED                 \n",
              "12                    STATICALLY_LINKED                 \n",
              "13                                 None                 \n",
              "14                                 None                 \n",
              "15                    STATICALLY_LINKED                 \n",
              "16                                 None                 \n",
              "17                                 None                 \n",
              "18                                 None                 \n",
              "19                                 None                 \n",
              "20                    STATICALLY_LINKED                 \n",
              "21                    STATICALLY_LINKED                 \n",
              "22                                 None                 "
            ],
            "text/html": [
              "\n",
              "  <div id=\"df-60028105-54ae-4f1b-bfd1-19c5e60a3cbe\" class=\"colab-df-container\">\n",
              "    <div>\n",
              "<style scoped>\n",
              "    .dataframe tbody tr th:only-of-type {\n",
              "        vertical-align: middle;\n",
              "    }\n",
              "\n",
              "    .dataframe tbody tr th {\n",
              "        vertical-align: top;\n",
              "    }\n",
              "\n",
              "    .dataframe thead th {\n",
              "        text-align: right;\n",
              "    }\n",
              "</style>\n",
              "<table border=\"1\" class=\"dataframe\">\n",
              "  <thead>\n",
              "    <tr style=\"text-align: right;\">\n",
              "      <th></th>\n",
              "      <th>extension_name</th>\n",
              "      <th>loaded</th>\n",
              "      <th>installed</th>\n",
              "      <th>install_path</th>\n",
              "      <th>description</th>\n",
              "      <th>aliases</th>\n",
              "      <th>extension_version</th>\n",
              "      <th>install_mode</th>\n",
              "      <th>installed_from</th>\n",
              "    </tr>\n",
              "  </thead>\n",
              "  <tbody>\n",
              "    <tr>\n",
              "      <th>0</th>\n",
              "      <td>arrow</td>\n",
              "      <td>False</td>\n",
              "      <td>False</td>\n",
              "      <td></td>\n",
              "      <td>A zero-copy data integration between Apache Ar...</td>\n",
              "      <td>[]</td>\n",
              "      <td></td>\n",
              "      <td>None</td>\n",
              "      <td></td>\n",
              "    </tr>\n",
              "    <tr>\n",
              "      <th>1</th>\n",
              "      <td>autocomplete</td>\n",
              "      <td>False</td>\n",
              "      <td>False</td>\n",
              "      <td></td>\n",
              "      <td>Adds support for autocomplete in the shell</td>\n",
              "      <td>[]</td>\n",
              "      <td></td>\n",
              "      <td>None</td>\n",
              "      <td></td>\n",
              "    </tr>\n",
              "    <tr>\n",
              "      <th>2</th>\n",
              "      <td>aws</td>\n",
              "      <td>False</td>\n",
              "      <td>False</td>\n",
              "      <td></td>\n",
              "      <td>Provides features that depend on the AWS SDK</td>\n",
              "      <td>[]</td>\n",
              "      <td></td>\n",
              "      <td>None</td>\n",
              "      <td></td>\n",
              "    </tr>\n",
              "    <tr>\n",
              "      <th>3</th>\n",
              "      <td>azure</td>\n",
              "      <td>False</td>\n",
              "      <td>False</td>\n",
              "      <td></td>\n",
              "      <td>Adds a filesystem abstraction for Azure blob s...</td>\n",
              "      <td>[]</td>\n",
              "      <td></td>\n",
              "      <td>None</td>\n",
              "      <td></td>\n",
              "    </tr>\n",
              "    <tr>\n",
              "      <th>4</th>\n",
              "      <td>delta</td>\n",
              "      <td>False</td>\n",
              "      <td>False</td>\n",
              "      <td></td>\n",
              "      <td>Adds support for Delta Lake</td>\n",
              "      <td>[]</td>\n",
              "      <td></td>\n",
              "      <td>None</td>\n",
              "      <td></td>\n",
              "    </tr>\n",
              "    <tr>\n",
              "      <th>5</th>\n",
              "      <td>excel</td>\n",
              "      <td>False</td>\n",
              "      <td>False</td>\n",
              "      <td></td>\n",
              "      <td>Adds support for Excel-like format strings</td>\n",
              "      <td>[]</td>\n",
              "      <td></td>\n",
              "      <td>None</td>\n",
              "      <td></td>\n",
              "    </tr>\n",
              "    <tr>\n",
              "      <th>6</th>\n",
              "      <td>fts</td>\n",
              "      <td>False</td>\n",
              "      <td>True</td>\n",
              "      <td>(BUILT-IN)</td>\n",
              "      <td>Adds support for Full-Text Search Indexes</td>\n",
              "      <td>[]</td>\n",
              "      <td></td>\n",
              "      <td>STATICALLY_LINKED</td>\n",
              "      <td></td>\n",
              "    </tr>\n",
              "    <tr>\n",
              "      <th>7</th>\n",
              "      <td>httpfs</td>\n",
              "      <td>True</td>\n",
              "      <td>True</td>\n",
              "      <td>/root/.duckdb/extensions/v1.1.3/linux_amd64_gc...</td>\n",
              "      <td>Adds support for reading and writing files ove...</td>\n",
              "      <td>[http, https, s3]</td>\n",
              "      <td>v1.1.3</td>\n",
              "      <td>REPOSITORY</td>\n",
              "      <td>core</td>\n",
              "    </tr>\n",
              "    <tr>\n",
              "      <th>8</th>\n",
              "      <td>iceberg</td>\n",
              "      <td>False</td>\n",
              "      <td>False</td>\n",
              "      <td></td>\n",
              "      <td>Adds support for Apache Iceberg</td>\n",
              "      <td>[]</td>\n",
              "      <td></td>\n",
              "      <td>None</td>\n",
              "      <td></td>\n",
              "    </tr>\n",
              "    <tr>\n",
              "      <th>9</th>\n",
              "      <td>icu</td>\n",
              "      <td>True</td>\n",
              "      <td>True</td>\n",
              "      <td>(BUILT-IN)</td>\n",
              "      <td>Adds support for time zones and collations usi...</td>\n",
              "      <td>[]</td>\n",
              "      <td></td>\n",
              "      <td>STATICALLY_LINKED</td>\n",
              "      <td></td>\n",
              "    </tr>\n",
              "    <tr>\n",
              "      <th>10</th>\n",
              "      <td>inet</td>\n",
              "      <td>False</td>\n",
              "      <td>False</td>\n",
              "      <td></td>\n",
              "      <td>Adds support for IP-related data types and fun...</td>\n",
              "      <td>[]</td>\n",
              "      <td></td>\n",
              "      <td>None</td>\n",
              "      <td></td>\n",
              "    </tr>\n",
              "    <tr>\n",
              "      <th>11</th>\n",
              "      <td>jemalloc</td>\n",
              "      <td>True</td>\n",
              "      <td>True</td>\n",
              "      <td>(BUILT-IN)</td>\n",
              "      <td>Overwrites system allocator with JEMalloc</td>\n",
              "      <td>[]</td>\n",
              "      <td></td>\n",
              "      <td>STATICALLY_LINKED</td>\n",
              "      <td></td>\n",
              "    </tr>\n",
              "    <tr>\n",
              "      <th>12</th>\n",
              "      <td>json</td>\n",
              "      <td>True</td>\n",
              "      <td>True</td>\n",
              "      <td>(BUILT-IN)</td>\n",
              "      <td>Adds support for JSON operations</td>\n",
              "      <td>[]</td>\n",
              "      <td></td>\n",
              "      <td>STATICALLY_LINKED</td>\n",
              "      <td></td>\n",
              "    </tr>\n",
              "    <tr>\n",
              "      <th>13</th>\n",
              "      <td>motherduck</td>\n",
              "      <td>False</td>\n",
              "      <td>False</td>\n",
              "      <td></td>\n",
              "      <td>Enables motherduck integration with the system</td>\n",
              "      <td>[md]</td>\n",
              "      <td></td>\n",
              "      <td>None</td>\n",
              "      <td></td>\n",
              "    </tr>\n",
              "    <tr>\n",
              "      <th>14</th>\n",
              "      <td>mysql_scanner</td>\n",
              "      <td>False</td>\n",
              "      <td>False</td>\n",
              "      <td></td>\n",
              "      <td>Adds support for connecting to a MySQL database</td>\n",
              "      <td>[mysql]</td>\n",
              "      <td></td>\n",
              "      <td>None</td>\n",
              "      <td></td>\n",
              "    </tr>\n",
              "    <tr>\n",
              "      <th>15</th>\n",
              "      <td>parquet</td>\n",
              "      <td>True</td>\n",
              "      <td>True</td>\n",
              "      <td>(BUILT-IN)</td>\n",
              "      <td>Adds support for reading and writing parquet f...</td>\n",
              "      <td>[]</td>\n",
              "      <td></td>\n",
              "      <td>STATICALLY_LINKED</td>\n",
              "      <td></td>\n",
              "    </tr>\n",
              "    <tr>\n",
              "      <th>16</th>\n",
              "      <td>postgres_scanner</td>\n",
              "      <td>False</td>\n",
              "      <td>False</td>\n",
              "      <td></td>\n",
              "      <td>Adds support for connecting to a Postgres data...</td>\n",
              "      <td>[postgres]</td>\n",
              "      <td></td>\n",
              "      <td>None</td>\n",
              "      <td></td>\n",
              "    </tr>\n",
              "    <tr>\n",
              "      <th>17</th>\n",
              "      <td>spatial</td>\n",
              "      <td>False</td>\n",
              "      <td>False</td>\n",
              "      <td></td>\n",
              "      <td>Geospatial extension that adds support for wor...</td>\n",
              "      <td>[]</td>\n",
              "      <td></td>\n",
              "      <td>None</td>\n",
              "      <td></td>\n",
              "    </tr>\n",
              "    <tr>\n",
              "      <th>18</th>\n",
              "      <td>sqlite_scanner</td>\n",
              "      <td>False</td>\n",
              "      <td>False</td>\n",
              "      <td></td>\n",
              "      <td>Adds support for reading and writing SQLite da...</td>\n",
              "      <td>[sqlite, sqlite3]</td>\n",
              "      <td></td>\n",
              "      <td>None</td>\n",
              "      <td></td>\n",
              "    </tr>\n",
              "    <tr>\n",
              "      <th>19</th>\n",
              "      <td>substrait</td>\n",
              "      <td>False</td>\n",
              "      <td>False</td>\n",
              "      <td></td>\n",
              "      <td>Adds support for the Substrait integration</td>\n",
              "      <td>[]</td>\n",
              "      <td></td>\n",
              "      <td>None</td>\n",
              "      <td></td>\n",
              "    </tr>\n",
              "    <tr>\n",
              "      <th>20</th>\n",
              "      <td>tpcds</td>\n",
              "      <td>True</td>\n",
              "      <td>True</td>\n",
              "      <td>(BUILT-IN)</td>\n",
              "      <td>Adds TPC-DS data generation and query support</td>\n",
              "      <td>[]</td>\n",
              "      <td></td>\n",
              "      <td>STATICALLY_LINKED</td>\n",
              "      <td></td>\n",
              "    </tr>\n",
              "    <tr>\n",
              "      <th>21</th>\n",
              "      <td>tpch</td>\n",
              "      <td>True</td>\n",
              "      <td>True</td>\n",
              "      <td>(BUILT-IN)</td>\n",
              "      <td>Adds TPC-H data generation and query support</td>\n",
              "      <td>[]</td>\n",
              "      <td></td>\n",
              "      <td>STATICALLY_LINKED</td>\n",
              "      <td></td>\n",
              "    </tr>\n",
              "    <tr>\n",
              "      <th>22</th>\n",
              "      <td>vss</td>\n",
              "      <td>False</td>\n",
              "      <td>False</td>\n",
              "      <td></td>\n",
              "      <td>Adds indexing support to accelerate Vector Sim...</td>\n",
              "      <td>[]</td>\n",
              "      <td></td>\n",
              "      <td>None</td>\n",
              "      <td></td>\n",
              "    </tr>\n",
              "  </tbody>\n",
              "</table>\n",
              "</div>\n",
              "    <div class=\"colab-df-buttons\">\n",
              "\n",
              "  <div class=\"colab-df-container\">\n",
              "    <button class=\"colab-df-convert\" onclick=\"convertToInteractive('df-60028105-54ae-4f1b-bfd1-19c5e60a3cbe')\"\n",
              "            title=\"Convert this dataframe to an interactive table.\"\n",
              "            style=\"display:none;\">\n",
              "\n",
              "  <svg xmlns=\"http://www.w3.org/2000/svg\" height=\"24px\" viewBox=\"0 -960 960 960\">\n",
              "    <path d=\"M120-120v-720h720v720H120Zm60-500h600v-160H180v160Zm220 220h160v-160H400v160Zm0 220h160v-160H400v160ZM180-400h160v-160H180v160Zm440 0h160v-160H620v160ZM180-180h160v-160H180v160Zm440 0h160v-160H620v160Z\"/>\n",
              "  </svg>\n",
              "    </button>\n",
              "\n",
              "  <style>\n",
              "    .colab-df-container {\n",
              "      display:flex;\n",
              "      gap: 12px;\n",
              "    }\n",
              "\n",
              "    .colab-df-convert {\n",
              "      background-color: #E8F0FE;\n",
              "      border: none;\n",
              "      border-radius: 50%;\n",
              "      cursor: pointer;\n",
              "      display: none;\n",
              "      fill: #1967D2;\n",
              "      height: 32px;\n",
              "      padding: 0 0 0 0;\n",
              "      width: 32px;\n",
              "    }\n",
              "\n",
              "    .colab-df-convert:hover {\n",
              "      background-color: #E2EBFA;\n",
              "      box-shadow: 0px 1px 2px rgba(60, 64, 67, 0.3), 0px 1px 3px 1px rgba(60, 64, 67, 0.15);\n",
              "      fill: #174EA6;\n",
              "    }\n",
              "\n",
              "    .colab-df-buttons div {\n",
              "      margin-bottom: 4px;\n",
              "    }\n",
              "\n",
              "    [theme=dark] .colab-df-convert {\n",
              "      background-color: #3B4455;\n",
              "      fill: #D2E3FC;\n",
              "    }\n",
              "\n",
              "    [theme=dark] .colab-df-convert:hover {\n",
              "      background-color: #434B5C;\n",
              "      box-shadow: 0px 1px 3px 1px rgba(0, 0, 0, 0.15);\n",
              "      filter: drop-shadow(0px 1px 2px rgba(0, 0, 0, 0.3));\n",
              "      fill: #FFFFFF;\n",
              "    }\n",
              "  </style>\n",
              "\n",
              "    <script>\n",
              "      const buttonEl =\n",
              "        document.querySelector('#df-60028105-54ae-4f1b-bfd1-19c5e60a3cbe button.colab-df-convert');\n",
              "      buttonEl.style.display =\n",
              "        google.colab.kernel.accessAllowed ? 'block' : 'none';\n",
              "\n",
              "      async function convertToInteractive(key) {\n",
              "        const element = document.querySelector('#df-60028105-54ae-4f1b-bfd1-19c5e60a3cbe');\n",
              "        const dataTable =\n",
              "          await google.colab.kernel.invokeFunction('convertToInteractive',\n",
              "                                                    [key], {});\n",
              "        if (!dataTable) return;\n",
              "\n",
              "        const docLinkHtml = 'Like what you see? Visit the ' +\n",
              "          '<a target=\"_blank\" href=https://colab.research.google.com/notebooks/data_table.ipynb>data table notebook</a>'\n",
              "          + ' to learn more about interactive tables.';\n",
              "        element.innerHTML = '';\n",
              "        dataTable['output_type'] = 'display_data';\n",
              "        await google.colab.output.renderOutput(dataTable, element);\n",
              "        const docLink = document.createElement('div');\n",
              "        docLink.innerHTML = docLinkHtml;\n",
              "        element.appendChild(docLink);\n",
              "      }\n",
              "    </script>\n",
              "  </div>\n",
              "\n",
              "\n",
              "<div id=\"df-0e1ce4ae-4dbe-4a75-909f-d535c25628ff\">\n",
              "  <button class=\"colab-df-quickchart\" onclick=\"quickchart('df-0e1ce4ae-4dbe-4a75-909f-d535c25628ff')\"\n",
              "            title=\"Suggest charts\"\n",
              "            style=\"display:none;\">\n",
              "\n",
              "<svg xmlns=\"http://www.w3.org/2000/svg\" height=\"24px\"viewBox=\"0 0 24 24\"\n",
              "     width=\"24px\">\n",
              "    <g>\n",
              "        <path d=\"M19 3H5c-1.1 0-2 .9-2 2v14c0 1.1.9 2 2 2h14c1.1 0 2-.9 2-2V5c0-1.1-.9-2-2-2zM9 17H7v-7h2v7zm4 0h-2V7h2v10zm4 0h-2v-4h2v4z\"/>\n",
              "    </g>\n",
              "</svg>\n",
              "  </button>\n",
              "\n",
              "<style>\n",
              "  .colab-df-quickchart {\n",
              "      --bg-color: #E8F0FE;\n",
              "      --fill-color: #1967D2;\n",
              "      --hover-bg-color: #E2EBFA;\n",
              "      --hover-fill-color: #174EA6;\n",
              "      --disabled-fill-color: #AAA;\n",
              "      --disabled-bg-color: #DDD;\n",
              "  }\n",
              "\n",
              "  [theme=dark] .colab-df-quickchart {\n",
              "      --bg-color: #3B4455;\n",
              "      --fill-color: #D2E3FC;\n",
              "      --hover-bg-color: #434B5C;\n",
              "      --hover-fill-color: #FFFFFF;\n",
              "      --disabled-bg-color: #3B4455;\n",
              "      --disabled-fill-color: #666;\n",
              "  }\n",
              "\n",
              "  .colab-df-quickchart {\n",
              "    background-color: var(--bg-color);\n",
              "    border: none;\n",
              "    border-radius: 50%;\n",
              "    cursor: pointer;\n",
              "    display: none;\n",
              "    fill: var(--fill-color);\n",
              "    height: 32px;\n",
              "    padding: 0;\n",
              "    width: 32px;\n",
              "  }\n",
              "\n",
              "  .colab-df-quickchart:hover {\n",
              "    background-color: var(--hover-bg-color);\n",
              "    box-shadow: 0 1px 2px rgba(60, 64, 67, 0.3), 0 1px 3px 1px rgba(60, 64, 67, 0.15);\n",
              "    fill: var(--button-hover-fill-color);\n",
              "  }\n",
              "\n",
              "  .colab-df-quickchart-complete:disabled,\n",
              "  .colab-df-quickchart-complete:disabled:hover {\n",
              "    background-color: var(--disabled-bg-color);\n",
              "    fill: var(--disabled-fill-color);\n",
              "    box-shadow: none;\n",
              "  }\n",
              "\n",
              "  .colab-df-spinner {\n",
              "    border: 2px solid var(--fill-color);\n",
              "    border-color: transparent;\n",
              "    border-bottom-color: var(--fill-color);\n",
              "    animation:\n",
              "      spin 1s steps(1) infinite;\n",
              "  }\n",
              "\n",
              "  @keyframes spin {\n",
              "    0% {\n",
              "      border-color: transparent;\n",
              "      border-bottom-color: var(--fill-color);\n",
              "      border-left-color: var(--fill-color);\n",
              "    }\n",
              "    20% {\n",
              "      border-color: transparent;\n",
              "      border-left-color: var(--fill-color);\n",
              "      border-top-color: var(--fill-color);\n",
              "    }\n",
              "    30% {\n",
              "      border-color: transparent;\n",
              "      border-left-color: var(--fill-color);\n",
              "      border-top-color: var(--fill-color);\n",
              "      border-right-color: var(--fill-color);\n",
              "    }\n",
              "    40% {\n",
              "      border-color: transparent;\n",
              "      border-right-color: var(--fill-color);\n",
              "      border-top-color: var(--fill-color);\n",
              "    }\n",
              "    60% {\n",
              "      border-color: transparent;\n",
              "      border-right-color: var(--fill-color);\n",
              "    }\n",
              "    80% {\n",
              "      border-color: transparent;\n",
              "      border-right-color: var(--fill-color);\n",
              "      border-bottom-color: var(--fill-color);\n",
              "    }\n",
              "    90% {\n",
              "      border-color: transparent;\n",
              "      border-bottom-color: var(--fill-color);\n",
              "    }\n",
              "  }\n",
              "</style>\n",
              "\n",
              "  <script>\n",
              "    async function quickchart(key) {\n",
              "      const quickchartButtonEl =\n",
              "        document.querySelector('#' + key + ' button');\n",
              "      quickchartButtonEl.disabled = true;  // To prevent multiple clicks.\n",
              "      quickchartButtonEl.classList.add('colab-df-spinner');\n",
              "      try {\n",
              "        const charts = await google.colab.kernel.invokeFunction(\n",
              "            'suggestCharts', [key], {});\n",
              "      } catch (error) {\n",
              "        console.error('Error during call to suggestCharts:', error);\n",
              "      }\n",
              "      quickchartButtonEl.classList.remove('colab-df-spinner');\n",
              "      quickchartButtonEl.classList.add('colab-df-quickchart-complete');\n",
              "    }\n",
              "    (() => {\n",
              "      let quickchartButtonEl =\n",
              "        document.querySelector('#df-0e1ce4ae-4dbe-4a75-909f-d535c25628ff button');\n",
              "      quickchartButtonEl.style.display =\n",
              "        google.colab.kernel.accessAllowed ? 'block' : 'none';\n",
              "    })();\n",
              "  </script>\n",
              "</div>\n",
              "\n",
              "    </div>\n",
              "  </div>\n"
            ],
            "application/vnd.google.colaboratory.intrinsic+json": {
              "type": "dataframe",
              "summary": "{\n  \"name\": \"get_ipython()\",\n  \"rows\": 23,\n  \"fields\": [\n    {\n      \"column\": \"extension_name\",\n      \"properties\": {\n        \"dtype\": \"string\",\n        \"num_unique_values\": 23,\n        \"samples\": [\n          \"parquet\",\n          \"icu\",\n          \"arrow\"\n        ],\n        \"semantic_type\": \"\",\n        \"description\": \"\"\n      }\n    },\n    {\n      \"column\": \"loaded\",\n      \"properties\": {\n        \"dtype\": \"boolean\",\n        \"num_unique_values\": 2,\n        \"samples\": [\n          true,\n          false\n        ],\n        \"semantic_type\": \"\",\n        \"description\": \"\"\n      }\n    },\n    {\n      \"column\": \"installed\",\n      \"properties\": {\n        \"dtype\": \"boolean\",\n        \"num_unique_values\": 2,\n        \"samples\": [\n          true,\n          false\n        ],\n        \"semantic_type\": \"\",\n        \"description\": \"\"\n      }\n    },\n    {\n      \"column\": \"install_path\",\n      \"properties\": {\n        \"dtype\": \"category\",\n        \"num_unique_values\": 3,\n        \"samples\": [\n          \"\",\n          \"(BUILT-IN)\"\n        ],\n        \"semantic_type\": \"\",\n        \"description\": \"\"\n      }\n    },\n    {\n      \"column\": \"description\",\n      \"properties\": {\n        \"dtype\": \"string\",\n        \"num_unique_values\": 23,\n        \"samples\": [\n          \"Adds support for reading and writing parquet files\",\n          \"Adds support for time zones and collations using the ICU library\"\n        ],\n        \"semantic_type\": \"\",\n        \"description\": \"\"\n      }\n    },\n    {\n      \"column\": \"aliases\",\n      \"properties\": {\n        \"dtype\": \"object\",\n        \"semantic_type\": \"\",\n        \"description\": \"\"\n      }\n    },\n    {\n      \"column\": \"extension_version\",\n      \"properties\": {\n        \"dtype\": \"category\",\n        \"num_unique_values\": 2,\n        \"samples\": [\n          \"v1.1.3\",\n          \"\"\n        ],\n        \"semantic_type\": \"\",\n        \"description\": \"\"\n      }\n    },\n    {\n      \"column\": \"install_mode\",\n      \"properties\": {\n        \"dtype\": \"category\",\n        \"num_unique_values\": 2,\n        \"samples\": [\n          \"REPOSITORY\",\n          \"STATICALLY_LINKED\"\n        ],\n        \"semantic_type\": \"\",\n        \"description\": \"\"\n      }\n    },\n    {\n      \"column\": \"installed_from\",\n      \"properties\": {\n        \"dtype\": \"category\",\n        \"num_unique_values\": 2,\n        \"samples\": [\n          \"core\",\n          \"\"\n        ],\n        \"semantic_type\": \"\",\n        \"description\": \"\"\n      }\n    }\n  ]\n}"
            }
          },
          "metadata": {},
          "execution_count": 58
        }
      ],
      "source": [
        "%%sql\n",
        "\n",
        "SELECT * FROM duckdb_extensions();"
      ],
      "id": "Nd76xHWUmCMZ"
    },
    {
      "cell_type": "markdown",
      "metadata": {
        "id": "FA__Q3ixmCMZ"
      },
      "source": [
        "DuckDB's [httpfs extension](https://duckdb.org/docs/extensions/httpfs) allows parquet and csv files to be queried remotely over http. This is useful for querying large datasets without having to download them locally. Let's install the extension and load the extension."
      ],
      "id": "FA__Q3ixmCMZ"
    },
    {
      "cell_type": "code",
      "execution_count": 59,
      "metadata": {
        "id": "Qcsnq05cmCMZ",
        "outputId": "fe487861-7881-4e5b-97ce-de07f630d528",
        "colab": {
          "base_uri": "https://localhost:8080/",
          "height": 53
        }
      },
      "outputs": [
        {
          "output_type": "execute_result",
          "data": {
            "text/plain": [
              "Empty DataFrame\n",
              "Columns: [Success]\n",
              "Index: []"
            ],
            "text/html": [
              "\n",
              "  <div id=\"df-d4345135-63f7-40b9-95e5-5448dc689566\" class=\"colab-df-container\">\n",
              "    <div>\n",
              "<style scoped>\n",
              "    .dataframe tbody tr th:only-of-type {\n",
              "        vertical-align: middle;\n",
              "    }\n",
              "\n",
              "    .dataframe tbody tr th {\n",
              "        vertical-align: top;\n",
              "    }\n",
              "\n",
              "    .dataframe thead th {\n",
              "        text-align: right;\n",
              "    }\n",
              "</style>\n",
              "<table border=\"1\" class=\"dataframe\">\n",
              "  <thead>\n",
              "    <tr style=\"text-align: right;\">\n",
              "      <th></th>\n",
              "      <th>Success</th>\n",
              "    </tr>\n",
              "  </thead>\n",
              "  <tbody>\n",
              "  </tbody>\n",
              "</table>\n",
              "</div>\n",
              "    <div class=\"colab-df-buttons\">\n",
              "\n",
              "  <div class=\"colab-df-container\">\n",
              "    <button class=\"colab-df-convert\" onclick=\"convertToInteractive('df-d4345135-63f7-40b9-95e5-5448dc689566')\"\n",
              "            title=\"Convert this dataframe to an interactive table.\"\n",
              "            style=\"display:none;\">\n",
              "\n",
              "  <svg xmlns=\"http://www.w3.org/2000/svg\" height=\"24px\" viewBox=\"0 -960 960 960\">\n",
              "    <path d=\"M120-120v-720h720v720H120Zm60-500h600v-160H180v160Zm220 220h160v-160H400v160Zm0 220h160v-160H400v160ZM180-400h160v-160H180v160Zm440 0h160v-160H620v160ZM180-180h160v-160H180v160Zm440 0h160v-160H620v160Z\"/>\n",
              "  </svg>\n",
              "    </button>\n",
              "\n",
              "  <style>\n",
              "    .colab-df-container {\n",
              "      display:flex;\n",
              "      gap: 12px;\n",
              "    }\n",
              "\n",
              "    .colab-df-convert {\n",
              "      background-color: #E8F0FE;\n",
              "      border: none;\n",
              "      border-radius: 50%;\n",
              "      cursor: pointer;\n",
              "      display: none;\n",
              "      fill: #1967D2;\n",
              "      height: 32px;\n",
              "      padding: 0 0 0 0;\n",
              "      width: 32px;\n",
              "    }\n",
              "\n",
              "    .colab-df-convert:hover {\n",
              "      background-color: #E2EBFA;\n",
              "      box-shadow: 0px 1px 2px rgba(60, 64, 67, 0.3), 0px 1px 3px 1px rgba(60, 64, 67, 0.15);\n",
              "      fill: #174EA6;\n",
              "    }\n",
              "\n",
              "    .colab-df-buttons div {\n",
              "      margin-bottom: 4px;\n",
              "    }\n",
              "\n",
              "    [theme=dark] .colab-df-convert {\n",
              "      background-color: #3B4455;\n",
              "      fill: #D2E3FC;\n",
              "    }\n",
              "\n",
              "    [theme=dark] .colab-df-convert:hover {\n",
              "      background-color: #434B5C;\n",
              "      box-shadow: 0px 1px 3px 1px rgba(0, 0, 0, 0.15);\n",
              "      filter: drop-shadow(0px 1px 2px rgba(0, 0, 0, 0.3));\n",
              "      fill: #FFFFFF;\n",
              "    }\n",
              "  </style>\n",
              "\n",
              "    <script>\n",
              "      const buttonEl =\n",
              "        document.querySelector('#df-d4345135-63f7-40b9-95e5-5448dc689566 button.colab-df-convert');\n",
              "      buttonEl.style.display =\n",
              "        google.colab.kernel.accessAllowed ? 'block' : 'none';\n",
              "\n",
              "      async function convertToInteractive(key) {\n",
              "        const element = document.querySelector('#df-d4345135-63f7-40b9-95e5-5448dc689566');\n",
              "        const dataTable =\n",
              "          await google.colab.kernel.invokeFunction('convertToInteractive',\n",
              "                                                    [key], {});\n",
              "        if (!dataTable) return;\n",
              "\n",
              "        const docLinkHtml = 'Like what you see? Visit the ' +\n",
              "          '<a target=\"_blank\" href=https://colab.research.google.com/notebooks/data_table.ipynb>data table notebook</a>'\n",
              "          + ' to learn more about interactive tables.';\n",
              "        element.innerHTML = '';\n",
              "        dataTable['output_type'] = 'display_data';\n",
              "        await google.colab.output.renderOutput(dataTable, element);\n",
              "        const docLink = document.createElement('div');\n",
              "        docLink.innerHTML = docLinkHtml;\n",
              "        element.appendChild(docLink);\n",
              "      }\n",
              "    </script>\n",
              "  </div>\n",
              "\n",
              "\n",
              "    </div>\n",
              "  </div>\n"
            ],
            "application/vnd.google.colaboratory.intrinsic+json": {
              "type": "dataframe",
              "summary": "{\n  \"name\": \"get_ipython()\",\n  \"rows\": 0,\n  \"fields\": [\n    {\n      \"column\": \"Success\",\n      \"properties\": {\n        \"dtype\": \"boolean\",\n        \"num_unique_values\": 0,\n        \"samples\": [],\n        \"semantic_type\": \"\",\n        \"description\": \"\"\n      }\n    }\n  ]\n}"
            }
          },
          "metadata": {},
          "execution_count": 59
        }
      ],
      "source": [
        "%%sql\n",
        "\n",
        "INSTALL httpfs;\n",
        "LOAD httpfs;"
      ],
      "id": "Qcsnq05cmCMZ"
    },
    {
      "cell_type": "markdown",
      "metadata": {
        "id": "FlTK8xM0mCMZ"
      },
      "source": [
        "## Read CSV\n",
        "\n",
        "Use the `httpfs` extension to read the `cities.csv` file from the web."
      ],
      "id": "FlTK8xM0mCMZ"
    },
    {
      "cell_type": "code",
      "execution_count": 60,
      "metadata": {
        "id": "H_ijmgTOmCMZ",
        "outputId": "11f9f109-5e50-4d18-a64d-f13f76585a2b",
        "colab": {
          "base_uri": "https://localhost:8080/",
          "height": 423
        }
      },
      "outputs": [
        {
          "output_type": "execute_result",
          "data": {
            "text/plain": [
              "        id            name country  latitude  longitude  population\n",
              "0        1           Bombo     UGA   0.58330   32.53330       75000\n",
              "1        2     Fort Portal     UGA   0.67100   30.27500       42670\n",
              "2        3         Potenza     ITA  40.64200   15.79900       69060\n",
              "3        4      Campobasso     ITA  41.56300   14.65600       50762\n",
              "4        5           Aosta     ITA  45.73700    7.31500       34062\n",
              "...    ...             ...     ...       ...        ...         ...\n",
              "1244  1245  Rio de Janeiro     BRA -22.92502  -43.22502    11748000\n",
              "1245  1246       Sao Paulo     BRA -23.55868  -46.62502    18845000\n",
              "1246  1247          Sydney     AUS -33.92001  151.18518     4630000\n",
              "1247  1248       Singapore     SGP   1.29303  103.85582     5183700\n",
              "1248  1249       Hong Kong     CHN  22.30498  114.18501     7206000\n",
              "\n",
              "[1249 rows x 6 columns]"
            ],
            "text/html": [
              "\n",
              "  <div id=\"df-a830cb70-3f5e-416a-8cdf-69fc4e88dcec\" class=\"colab-df-container\">\n",
              "    <div>\n",
              "<style scoped>\n",
              "    .dataframe tbody tr th:only-of-type {\n",
              "        vertical-align: middle;\n",
              "    }\n",
              "\n",
              "    .dataframe tbody tr th {\n",
              "        vertical-align: top;\n",
              "    }\n",
              "\n",
              "    .dataframe thead th {\n",
              "        text-align: right;\n",
              "    }\n",
              "</style>\n",
              "<table border=\"1\" class=\"dataframe\">\n",
              "  <thead>\n",
              "    <tr style=\"text-align: right;\">\n",
              "      <th></th>\n",
              "      <th>id</th>\n",
              "      <th>name</th>\n",
              "      <th>country</th>\n",
              "      <th>latitude</th>\n",
              "      <th>longitude</th>\n",
              "      <th>population</th>\n",
              "    </tr>\n",
              "  </thead>\n",
              "  <tbody>\n",
              "    <tr>\n",
              "      <th>0</th>\n",
              "      <td>1</td>\n",
              "      <td>Bombo</td>\n",
              "      <td>UGA</td>\n",
              "      <td>0.58330</td>\n",
              "      <td>32.53330</td>\n",
              "      <td>75000</td>\n",
              "    </tr>\n",
              "    <tr>\n",
              "      <th>1</th>\n",
              "      <td>2</td>\n",
              "      <td>Fort Portal</td>\n",
              "      <td>UGA</td>\n",
              "      <td>0.67100</td>\n",
              "      <td>30.27500</td>\n",
              "      <td>42670</td>\n",
              "    </tr>\n",
              "    <tr>\n",
              "      <th>2</th>\n",
              "      <td>3</td>\n",
              "      <td>Potenza</td>\n",
              "      <td>ITA</td>\n",
              "      <td>40.64200</td>\n",
              "      <td>15.79900</td>\n",
              "      <td>69060</td>\n",
              "    </tr>\n",
              "    <tr>\n",
              "      <th>3</th>\n",
              "      <td>4</td>\n",
              "      <td>Campobasso</td>\n",
              "      <td>ITA</td>\n",
              "      <td>41.56300</td>\n",
              "      <td>14.65600</td>\n",
              "      <td>50762</td>\n",
              "    </tr>\n",
              "    <tr>\n",
              "      <th>4</th>\n",
              "      <td>5</td>\n",
              "      <td>Aosta</td>\n",
              "      <td>ITA</td>\n",
              "      <td>45.73700</td>\n",
              "      <td>7.31500</td>\n",
              "      <td>34062</td>\n",
              "    </tr>\n",
              "    <tr>\n",
              "      <th>...</th>\n",
              "      <td>...</td>\n",
              "      <td>...</td>\n",
              "      <td>...</td>\n",
              "      <td>...</td>\n",
              "      <td>...</td>\n",
              "      <td>...</td>\n",
              "    </tr>\n",
              "    <tr>\n",
              "      <th>1244</th>\n",
              "      <td>1245</td>\n",
              "      <td>Rio de Janeiro</td>\n",
              "      <td>BRA</td>\n",
              "      <td>-22.92502</td>\n",
              "      <td>-43.22502</td>\n",
              "      <td>11748000</td>\n",
              "    </tr>\n",
              "    <tr>\n",
              "      <th>1245</th>\n",
              "      <td>1246</td>\n",
              "      <td>Sao Paulo</td>\n",
              "      <td>BRA</td>\n",
              "      <td>-23.55868</td>\n",
              "      <td>-46.62502</td>\n",
              "      <td>18845000</td>\n",
              "    </tr>\n",
              "    <tr>\n",
              "      <th>1246</th>\n",
              "      <td>1247</td>\n",
              "      <td>Sydney</td>\n",
              "      <td>AUS</td>\n",
              "      <td>-33.92001</td>\n",
              "      <td>151.18518</td>\n",
              "      <td>4630000</td>\n",
              "    </tr>\n",
              "    <tr>\n",
              "      <th>1247</th>\n",
              "      <td>1248</td>\n",
              "      <td>Singapore</td>\n",
              "      <td>SGP</td>\n",
              "      <td>1.29303</td>\n",
              "      <td>103.85582</td>\n",
              "      <td>5183700</td>\n",
              "    </tr>\n",
              "    <tr>\n",
              "      <th>1248</th>\n",
              "      <td>1249</td>\n",
              "      <td>Hong Kong</td>\n",
              "      <td>CHN</td>\n",
              "      <td>22.30498</td>\n",
              "      <td>114.18501</td>\n",
              "      <td>7206000</td>\n",
              "    </tr>\n",
              "  </tbody>\n",
              "</table>\n",
              "<p>1249 rows × 6 columns</p>\n",
              "</div>\n",
              "    <div class=\"colab-df-buttons\">\n",
              "\n",
              "  <div class=\"colab-df-container\">\n",
              "    <button class=\"colab-df-convert\" onclick=\"convertToInteractive('df-a830cb70-3f5e-416a-8cdf-69fc4e88dcec')\"\n",
              "            title=\"Convert this dataframe to an interactive table.\"\n",
              "            style=\"display:none;\">\n",
              "\n",
              "  <svg xmlns=\"http://www.w3.org/2000/svg\" height=\"24px\" viewBox=\"0 -960 960 960\">\n",
              "    <path d=\"M120-120v-720h720v720H120Zm60-500h600v-160H180v160Zm220 220h160v-160H400v160Zm0 220h160v-160H400v160ZM180-400h160v-160H180v160Zm440 0h160v-160H620v160ZM180-180h160v-160H180v160Zm440 0h160v-160H620v160Z\"/>\n",
              "  </svg>\n",
              "    </button>\n",
              "\n",
              "  <style>\n",
              "    .colab-df-container {\n",
              "      display:flex;\n",
              "      gap: 12px;\n",
              "    }\n",
              "\n",
              "    .colab-df-convert {\n",
              "      background-color: #E8F0FE;\n",
              "      border: none;\n",
              "      border-radius: 50%;\n",
              "      cursor: pointer;\n",
              "      display: none;\n",
              "      fill: #1967D2;\n",
              "      height: 32px;\n",
              "      padding: 0 0 0 0;\n",
              "      width: 32px;\n",
              "    }\n",
              "\n",
              "    .colab-df-convert:hover {\n",
              "      background-color: #E2EBFA;\n",
              "      box-shadow: 0px 1px 2px rgba(60, 64, 67, 0.3), 0px 1px 3px 1px rgba(60, 64, 67, 0.15);\n",
              "      fill: #174EA6;\n",
              "    }\n",
              "\n",
              "    .colab-df-buttons div {\n",
              "      margin-bottom: 4px;\n",
              "    }\n",
              "\n",
              "    [theme=dark] .colab-df-convert {\n",
              "      background-color: #3B4455;\n",
              "      fill: #D2E3FC;\n",
              "    }\n",
              "\n",
              "    [theme=dark] .colab-df-convert:hover {\n",
              "      background-color: #434B5C;\n",
              "      box-shadow: 0px 1px 3px 1px rgba(0, 0, 0, 0.15);\n",
              "      filter: drop-shadow(0px 1px 2px rgba(0, 0, 0, 0.3));\n",
              "      fill: #FFFFFF;\n",
              "    }\n",
              "  </style>\n",
              "\n",
              "    <script>\n",
              "      const buttonEl =\n",
              "        document.querySelector('#df-a830cb70-3f5e-416a-8cdf-69fc4e88dcec button.colab-df-convert');\n",
              "      buttonEl.style.display =\n",
              "        google.colab.kernel.accessAllowed ? 'block' : 'none';\n",
              "\n",
              "      async function convertToInteractive(key) {\n",
              "        const element = document.querySelector('#df-a830cb70-3f5e-416a-8cdf-69fc4e88dcec');\n",
              "        const dataTable =\n",
              "          await google.colab.kernel.invokeFunction('convertToInteractive',\n",
              "                                                    [key], {});\n",
              "        if (!dataTable) return;\n",
              "\n",
              "        const docLinkHtml = 'Like what you see? Visit the ' +\n",
              "          '<a target=\"_blank\" href=https://colab.research.google.com/notebooks/data_table.ipynb>data table notebook</a>'\n",
              "          + ' to learn more about interactive tables.';\n",
              "        element.innerHTML = '';\n",
              "        dataTable['output_type'] = 'display_data';\n",
              "        await google.colab.output.renderOutput(dataTable, element);\n",
              "        const docLink = document.createElement('div');\n",
              "        docLink.innerHTML = docLinkHtml;\n",
              "        element.appendChild(docLink);\n",
              "      }\n",
              "    </script>\n",
              "  </div>\n",
              "\n",
              "\n",
              "<div id=\"df-da8f8608-0473-405f-bb7f-d45eda95fd07\">\n",
              "  <button class=\"colab-df-quickchart\" onclick=\"quickchart('df-da8f8608-0473-405f-bb7f-d45eda95fd07')\"\n",
              "            title=\"Suggest charts\"\n",
              "            style=\"display:none;\">\n",
              "\n",
              "<svg xmlns=\"http://www.w3.org/2000/svg\" height=\"24px\"viewBox=\"0 0 24 24\"\n",
              "     width=\"24px\">\n",
              "    <g>\n",
              "        <path d=\"M19 3H5c-1.1 0-2 .9-2 2v14c0 1.1.9 2 2 2h14c1.1 0 2-.9 2-2V5c0-1.1-.9-2-2-2zM9 17H7v-7h2v7zm4 0h-2V7h2v10zm4 0h-2v-4h2v4z\"/>\n",
              "    </g>\n",
              "</svg>\n",
              "  </button>\n",
              "\n",
              "<style>\n",
              "  .colab-df-quickchart {\n",
              "      --bg-color: #E8F0FE;\n",
              "      --fill-color: #1967D2;\n",
              "      --hover-bg-color: #E2EBFA;\n",
              "      --hover-fill-color: #174EA6;\n",
              "      --disabled-fill-color: #AAA;\n",
              "      --disabled-bg-color: #DDD;\n",
              "  }\n",
              "\n",
              "  [theme=dark] .colab-df-quickchart {\n",
              "      --bg-color: #3B4455;\n",
              "      --fill-color: #D2E3FC;\n",
              "      --hover-bg-color: #434B5C;\n",
              "      --hover-fill-color: #FFFFFF;\n",
              "      --disabled-bg-color: #3B4455;\n",
              "      --disabled-fill-color: #666;\n",
              "  }\n",
              "\n",
              "  .colab-df-quickchart {\n",
              "    background-color: var(--bg-color);\n",
              "    border: none;\n",
              "    border-radius: 50%;\n",
              "    cursor: pointer;\n",
              "    display: none;\n",
              "    fill: var(--fill-color);\n",
              "    height: 32px;\n",
              "    padding: 0;\n",
              "    width: 32px;\n",
              "  }\n",
              "\n",
              "  .colab-df-quickchart:hover {\n",
              "    background-color: var(--hover-bg-color);\n",
              "    box-shadow: 0 1px 2px rgba(60, 64, 67, 0.3), 0 1px 3px 1px rgba(60, 64, 67, 0.15);\n",
              "    fill: var(--button-hover-fill-color);\n",
              "  }\n",
              "\n",
              "  .colab-df-quickchart-complete:disabled,\n",
              "  .colab-df-quickchart-complete:disabled:hover {\n",
              "    background-color: var(--disabled-bg-color);\n",
              "    fill: var(--disabled-fill-color);\n",
              "    box-shadow: none;\n",
              "  }\n",
              "\n",
              "  .colab-df-spinner {\n",
              "    border: 2px solid var(--fill-color);\n",
              "    border-color: transparent;\n",
              "    border-bottom-color: var(--fill-color);\n",
              "    animation:\n",
              "      spin 1s steps(1) infinite;\n",
              "  }\n",
              "\n",
              "  @keyframes spin {\n",
              "    0% {\n",
              "      border-color: transparent;\n",
              "      border-bottom-color: var(--fill-color);\n",
              "      border-left-color: var(--fill-color);\n",
              "    }\n",
              "    20% {\n",
              "      border-color: transparent;\n",
              "      border-left-color: var(--fill-color);\n",
              "      border-top-color: var(--fill-color);\n",
              "    }\n",
              "    30% {\n",
              "      border-color: transparent;\n",
              "      border-left-color: var(--fill-color);\n",
              "      border-top-color: var(--fill-color);\n",
              "      border-right-color: var(--fill-color);\n",
              "    }\n",
              "    40% {\n",
              "      border-color: transparent;\n",
              "      border-right-color: var(--fill-color);\n",
              "      border-top-color: var(--fill-color);\n",
              "    }\n",
              "    60% {\n",
              "      border-color: transparent;\n",
              "      border-right-color: var(--fill-color);\n",
              "    }\n",
              "    80% {\n",
              "      border-color: transparent;\n",
              "      border-right-color: var(--fill-color);\n",
              "      border-bottom-color: var(--fill-color);\n",
              "    }\n",
              "    90% {\n",
              "      border-color: transparent;\n",
              "      border-bottom-color: var(--fill-color);\n",
              "    }\n",
              "  }\n",
              "</style>\n",
              "\n",
              "  <script>\n",
              "    async function quickchart(key) {\n",
              "      const quickchartButtonEl =\n",
              "        document.querySelector('#' + key + ' button');\n",
              "      quickchartButtonEl.disabled = true;  // To prevent multiple clicks.\n",
              "      quickchartButtonEl.classList.add('colab-df-spinner');\n",
              "      try {\n",
              "        const charts = await google.colab.kernel.invokeFunction(\n",
              "            'suggestCharts', [key], {});\n",
              "      } catch (error) {\n",
              "        console.error('Error during call to suggestCharts:', error);\n",
              "      }\n",
              "      quickchartButtonEl.classList.remove('colab-df-spinner');\n",
              "      quickchartButtonEl.classList.add('colab-df-quickchart-complete');\n",
              "    }\n",
              "    (() => {\n",
              "      let quickchartButtonEl =\n",
              "        document.querySelector('#df-da8f8608-0473-405f-bb7f-d45eda95fd07 button');\n",
              "      quickchartButtonEl.style.display =\n",
              "        google.colab.kernel.accessAllowed ? 'block' : 'none';\n",
              "    })();\n",
              "  </script>\n",
              "</div>\n",
              "\n",
              "    </div>\n",
              "  </div>\n"
            ],
            "application/vnd.google.colaboratory.intrinsic+json": {
              "type": "dataframe",
              "summary": "{\n  \"name\": \"get_ipython()\",\n  \"rows\": 1249,\n  \"fields\": [\n    {\n      \"column\": \"id\",\n      \"properties\": {\n        \"dtype\": \"number\",\n        \"std\": 360,\n        \"min\": 1,\n        \"max\": 1249,\n        \"num_unique_values\": 1249,\n        \"samples\": [\n          680,\n          1051,\n          902\n        ],\n        \"semantic_type\": \"\",\n        \"description\": \"\"\n      }\n    },\n    {\n      \"column\": \"name\",\n      \"properties\": {\n        \"dtype\": \"string\",\n        \"num_unique_values\": 1228,\n        \"samples\": [\n          \"Basseterre\",\n          \"Ningbo\",\n          \"Kigali\"\n        ],\n        \"semantic_type\": \"\",\n        \"description\": \"\"\n      }\n    },\n    {\n      \"column\": \"country\",\n      \"properties\": {\n        \"dtype\": \"category\",\n        \"num_unique_values\": 200,\n        \"samples\": [\n          \"ERI\",\n          \"LIE\",\n          \"COM\"\n        ],\n        \"semantic_type\": \"\",\n        \"description\": \"\"\n      }\n    },\n    {\n      \"column\": \"latitude\",\n      \"properties\": {\n        \"dtype\": \"number\",\n        \"std\": 31.642143709534352,\n        \"min\": -89.98289,\n        \"max\": 78.21668,\n        \"num_unique_values\": 1228,\n        \"samples\": [\n          17.30203,\n          29.87997,\n          3.85001\n        ],\n        \"semantic_type\": \"\",\n        \"description\": \"\"\n      }\n    },\n    {\n      \"column\": \"longitude\",\n      \"properties\": {\n        \"dtype\": \"number\",\n        \"std\": 80.13594617531753,\n        \"min\": -175.22056,\n        \"max\": 179.21665,\n        \"num_unique_values\": 1239,\n        \"samples\": [\n          100.32937,\n          -73.25001,\n          45.6987\n        ],\n        \"semantic_type\": \"\",\n        \"description\": \"\"\n      }\n    },\n    {\n      \"column\": \"population\",\n      \"properties\": {\n        \"dtype\": \"number\",\n        \"std\": 2329439,\n        \"min\": 0,\n        \"max\": 35676000,\n        \"num_unique_values\": 1185,\n        \"samples\": [\n          477090,\n          3305,\n          18845000\n        ],\n        \"semantic_type\": \"\",\n        \"description\": \"\"\n      }\n    }\n  ]\n}"
            }
          },
          "metadata": {},
          "execution_count": 60
        }
      ],
      "source": [
        "%%sql\n",
        "\n",
        "SELECT * FROM 'https://open.gishub.org/data/duckdb/cities.csv';"
      ],
      "id": "H_ijmgTOmCMZ"
    },
    {
      "cell_type": "code",
      "execution_count": 61,
      "metadata": {
        "id": "8KWp4DLNmCMZ",
        "outputId": "fbccb976-2f34-4fea-e1ba-75bb267b8e56",
        "colab": {
          "base_uri": "https://localhost:8080/",
          "height": 423
        }
      },
      "outputs": [
        {
          "output_type": "execute_result",
          "data": {
            "text/plain": [
              "      id            Country Alpha2_code Alpha3_code  Numeric_code  Latitude  \\\n",
              "0      1        Afghanistan          AF         AFG             4   33.0000   \n",
              "1      2            Albania          AL         ALB             8   41.0000   \n",
              "2      3            Algeria          DZ         DZA            12   28.0000   \n",
              "3      4     American Samoa          AS         ASM            16  -14.3333   \n",
              "4      5            Andorra          AD         AND            20   42.5000   \n",
              "..   ...                ...         ...         ...           ...       ...   \n",
              "238  239  Wallis and Futuna          WF         WLF           876  -13.3000   \n",
              "239  240     Western Sahara          EH         ESH           732   24.5000   \n",
              "240  241              Yemen          YE         YEM           887   15.0000   \n",
              "241  242             Zambia          ZM         ZMB           894  -15.0000   \n",
              "242  243           Zimbabwe          ZW         ZWE           716  -20.0000   \n",
              "\n",
              "     Longitude  \n",
              "0         65.0  \n",
              "1         20.0  \n",
              "2          3.0  \n",
              "3       -170.0  \n",
              "4          1.6  \n",
              "..         ...  \n",
              "238     -176.2  \n",
              "239      -13.0  \n",
              "240       48.0  \n",
              "241       30.0  \n",
              "242       30.0  \n",
              "\n",
              "[243 rows x 7 columns]"
            ],
            "text/html": [
              "\n",
              "  <div id=\"df-5349fd0c-20e3-4316-b304-4d30f52d6d3e\" class=\"colab-df-container\">\n",
              "    <div>\n",
              "<style scoped>\n",
              "    .dataframe tbody tr th:only-of-type {\n",
              "        vertical-align: middle;\n",
              "    }\n",
              "\n",
              "    .dataframe tbody tr th {\n",
              "        vertical-align: top;\n",
              "    }\n",
              "\n",
              "    .dataframe thead th {\n",
              "        text-align: right;\n",
              "    }\n",
              "</style>\n",
              "<table border=\"1\" class=\"dataframe\">\n",
              "  <thead>\n",
              "    <tr style=\"text-align: right;\">\n",
              "      <th></th>\n",
              "      <th>id</th>\n",
              "      <th>Country</th>\n",
              "      <th>Alpha2_code</th>\n",
              "      <th>Alpha3_code</th>\n",
              "      <th>Numeric_code</th>\n",
              "      <th>Latitude</th>\n",
              "      <th>Longitude</th>\n",
              "    </tr>\n",
              "  </thead>\n",
              "  <tbody>\n",
              "    <tr>\n",
              "      <th>0</th>\n",
              "      <td>1</td>\n",
              "      <td>Afghanistan</td>\n",
              "      <td>AF</td>\n",
              "      <td>AFG</td>\n",
              "      <td>4</td>\n",
              "      <td>33.0000</td>\n",
              "      <td>65.0</td>\n",
              "    </tr>\n",
              "    <tr>\n",
              "      <th>1</th>\n",
              "      <td>2</td>\n",
              "      <td>Albania</td>\n",
              "      <td>AL</td>\n",
              "      <td>ALB</td>\n",
              "      <td>8</td>\n",
              "      <td>41.0000</td>\n",
              "      <td>20.0</td>\n",
              "    </tr>\n",
              "    <tr>\n",
              "      <th>2</th>\n",
              "      <td>3</td>\n",
              "      <td>Algeria</td>\n",
              "      <td>DZ</td>\n",
              "      <td>DZA</td>\n",
              "      <td>12</td>\n",
              "      <td>28.0000</td>\n",
              "      <td>3.0</td>\n",
              "    </tr>\n",
              "    <tr>\n",
              "      <th>3</th>\n",
              "      <td>4</td>\n",
              "      <td>American Samoa</td>\n",
              "      <td>AS</td>\n",
              "      <td>ASM</td>\n",
              "      <td>16</td>\n",
              "      <td>-14.3333</td>\n",
              "      <td>-170.0</td>\n",
              "    </tr>\n",
              "    <tr>\n",
              "      <th>4</th>\n",
              "      <td>5</td>\n",
              "      <td>Andorra</td>\n",
              "      <td>AD</td>\n",
              "      <td>AND</td>\n",
              "      <td>20</td>\n",
              "      <td>42.5000</td>\n",
              "      <td>1.6</td>\n",
              "    </tr>\n",
              "    <tr>\n",
              "      <th>...</th>\n",
              "      <td>...</td>\n",
              "      <td>...</td>\n",
              "      <td>...</td>\n",
              "      <td>...</td>\n",
              "      <td>...</td>\n",
              "      <td>...</td>\n",
              "      <td>...</td>\n",
              "    </tr>\n",
              "    <tr>\n",
              "      <th>238</th>\n",
              "      <td>239</td>\n",
              "      <td>Wallis and Futuna</td>\n",
              "      <td>WF</td>\n",
              "      <td>WLF</td>\n",
              "      <td>876</td>\n",
              "      <td>-13.3000</td>\n",
              "      <td>-176.2</td>\n",
              "    </tr>\n",
              "    <tr>\n",
              "      <th>239</th>\n",
              "      <td>240</td>\n",
              "      <td>Western Sahara</td>\n",
              "      <td>EH</td>\n",
              "      <td>ESH</td>\n",
              "      <td>732</td>\n",
              "      <td>24.5000</td>\n",
              "      <td>-13.0</td>\n",
              "    </tr>\n",
              "    <tr>\n",
              "      <th>240</th>\n",
              "      <td>241</td>\n",
              "      <td>Yemen</td>\n",
              "      <td>YE</td>\n",
              "      <td>YEM</td>\n",
              "      <td>887</td>\n",
              "      <td>15.0000</td>\n",
              "      <td>48.0</td>\n",
              "    </tr>\n",
              "    <tr>\n",
              "      <th>241</th>\n",
              "      <td>242</td>\n",
              "      <td>Zambia</td>\n",
              "      <td>ZM</td>\n",
              "      <td>ZMB</td>\n",
              "      <td>894</td>\n",
              "      <td>-15.0000</td>\n",
              "      <td>30.0</td>\n",
              "    </tr>\n",
              "    <tr>\n",
              "      <th>242</th>\n",
              "      <td>243</td>\n",
              "      <td>Zimbabwe</td>\n",
              "      <td>ZW</td>\n",
              "      <td>ZWE</td>\n",
              "      <td>716</td>\n",
              "      <td>-20.0000</td>\n",
              "      <td>30.0</td>\n",
              "    </tr>\n",
              "  </tbody>\n",
              "</table>\n",
              "<p>243 rows × 7 columns</p>\n",
              "</div>\n",
              "    <div class=\"colab-df-buttons\">\n",
              "\n",
              "  <div class=\"colab-df-container\">\n",
              "    <button class=\"colab-df-convert\" onclick=\"convertToInteractive('df-5349fd0c-20e3-4316-b304-4d30f52d6d3e')\"\n",
              "            title=\"Convert this dataframe to an interactive table.\"\n",
              "            style=\"display:none;\">\n",
              "\n",
              "  <svg xmlns=\"http://www.w3.org/2000/svg\" height=\"24px\" viewBox=\"0 -960 960 960\">\n",
              "    <path d=\"M120-120v-720h720v720H120Zm60-500h600v-160H180v160Zm220 220h160v-160H400v160Zm0 220h160v-160H400v160ZM180-400h160v-160H180v160Zm440 0h160v-160H620v160ZM180-180h160v-160H180v160Zm440 0h160v-160H620v160Z\"/>\n",
              "  </svg>\n",
              "    </button>\n",
              "\n",
              "  <style>\n",
              "    .colab-df-container {\n",
              "      display:flex;\n",
              "      gap: 12px;\n",
              "    }\n",
              "\n",
              "    .colab-df-convert {\n",
              "      background-color: #E8F0FE;\n",
              "      border: none;\n",
              "      border-radius: 50%;\n",
              "      cursor: pointer;\n",
              "      display: none;\n",
              "      fill: #1967D2;\n",
              "      height: 32px;\n",
              "      padding: 0 0 0 0;\n",
              "      width: 32px;\n",
              "    }\n",
              "\n",
              "    .colab-df-convert:hover {\n",
              "      background-color: #E2EBFA;\n",
              "      box-shadow: 0px 1px 2px rgba(60, 64, 67, 0.3), 0px 1px 3px 1px rgba(60, 64, 67, 0.15);\n",
              "      fill: #174EA6;\n",
              "    }\n",
              "\n",
              "    .colab-df-buttons div {\n",
              "      margin-bottom: 4px;\n",
              "    }\n",
              "\n",
              "    [theme=dark] .colab-df-convert {\n",
              "      background-color: #3B4455;\n",
              "      fill: #D2E3FC;\n",
              "    }\n",
              "\n",
              "    [theme=dark] .colab-df-convert:hover {\n",
              "      background-color: #434B5C;\n",
              "      box-shadow: 0px 1px 3px 1px rgba(0, 0, 0, 0.15);\n",
              "      filter: drop-shadow(0px 1px 2px rgba(0, 0, 0, 0.3));\n",
              "      fill: #FFFFFF;\n",
              "    }\n",
              "  </style>\n",
              "\n",
              "    <script>\n",
              "      const buttonEl =\n",
              "        document.querySelector('#df-5349fd0c-20e3-4316-b304-4d30f52d6d3e button.colab-df-convert');\n",
              "      buttonEl.style.display =\n",
              "        google.colab.kernel.accessAllowed ? 'block' : 'none';\n",
              "\n",
              "      async function convertToInteractive(key) {\n",
              "        const element = document.querySelector('#df-5349fd0c-20e3-4316-b304-4d30f52d6d3e');\n",
              "        const dataTable =\n",
              "          await google.colab.kernel.invokeFunction('convertToInteractive',\n",
              "                                                    [key], {});\n",
              "        if (!dataTable) return;\n",
              "\n",
              "        const docLinkHtml = 'Like what you see? Visit the ' +\n",
              "          '<a target=\"_blank\" href=https://colab.research.google.com/notebooks/data_table.ipynb>data table notebook</a>'\n",
              "          + ' to learn more about interactive tables.';\n",
              "        element.innerHTML = '';\n",
              "        dataTable['output_type'] = 'display_data';\n",
              "        await google.colab.output.renderOutput(dataTable, element);\n",
              "        const docLink = document.createElement('div');\n",
              "        docLink.innerHTML = docLinkHtml;\n",
              "        element.appendChild(docLink);\n",
              "      }\n",
              "    </script>\n",
              "  </div>\n",
              "\n",
              "\n",
              "<div id=\"df-b2916440-33fb-4bc9-9d3f-f92429f4bdc7\">\n",
              "  <button class=\"colab-df-quickchart\" onclick=\"quickchart('df-b2916440-33fb-4bc9-9d3f-f92429f4bdc7')\"\n",
              "            title=\"Suggest charts\"\n",
              "            style=\"display:none;\">\n",
              "\n",
              "<svg xmlns=\"http://www.w3.org/2000/svg\" height=\"24px\"viewBox=\"0 0 24 24\"\n",
              "     width=\"24px\">\n",
              "    <g>\n",
              "        <path d=\"M19 3H5c-1.1 0-2 .9-2 2v14c0 1.1.9 2 2 2h14c1.1 0 2-.9 2-2V5c0-1.1-.9-2-2-2zM9 17H7v-7h2v7zm4 0h-2V7h2v10zm4 0h-2v-4h2v4z\"/>\n",
              "    </g>\n",
              "</svg>\n",
              "  </button>\n",
              "\n",
              "<style>\n",
              "  .colab-df-quickchart {\n",
              "      --bg-color: #E8F0FE;\n",
              "      --fill-color: #1967D2;\n",
              "      --hover-bg-color: #E2EBFA;\n",
              "      --hover-fill-color: #174EA6;\n",
              "      --disabled-fill-color: #AAA;\n",
              "      --disabled-bg-color: #DDD;\n",
              "  }\n",
              "\n",
              "  [theme=dark] .colab-df-quickchart {\n",
              "      --bg-color: #3B4455;\n",
              "      --fill-color: #D2E3FC;\n",
              "      --hover-bg-color: #434B5C;\n",
              "      --hover-fill-color: #FFFFFF;\n",
              "      --disabled-bg-color: #3B4455;\n",
              "      --disabled-fill-color: #666;\n",
              "  }\n",
              "\n",
              "  .colab-df-quickchart {\n",
              "    background-color: var(--bg-color);\n",
              "    border: none;\n",
              "    border-radius: 50%;\n",
              "    cursor: pointer;\n",
              "    display: none;\n",
              "    fill: var(--fill-color);\n",
              "    height: 32px;\n",
              "    padding: 0;\n",
              "    width: 32px;\n",
              "  }\n",
              "\n",
              "  .colab-df-quickchart:hover {\n",
              "    background-color: var(--hover-bg-color);\n",
              "    box-shadow: 0 1px 2px rgba(60, 64, 67, 0.3), 0 1px 3px 1px rgba(60, 64, 67, 0.15);\n",
              "    fill: var(--button-hover-fill-color);\n",
              "  }\n",
              "\n",
              "  .colab-df-quickchart-complete:disabled,\n",
              "  .colab-df-quickchart-complete:disabled:hover {\n",
              "    background-color: var(--disabled-bg-color);\n",
              "    fill: var(--disabled-fill-color);\n",
              "    box-shadow: none;\n",
              "  }\n",
              "\n",
              "  .colab-df-spinner {\n",
              "    border: 2px solid var(--fill-color);\n",
              "    border-color: transparent;\n",
              "    border-bottom-color: var(--fill-color);\n",
              "    animation:\n",
              "      spin 1s steps(1) infinite;\n",
              "  }\n",
              "\n",
              "  @keyframes spin {\n",
              "    0% {\n",
              "      border-color: transparent;\n",
              "      border-bottom-color: var(--fill-color);\n",
              "      border-left-color: var(--fill-color);\n",
              "    }\n",
              "    20% {\n",
              "      border-color: transparent;\n",
              "      border-left-color: var(--fill-color);\n",
              "      border-top-color: var(--fill-color);\n",
              "    }\n",
              "    30% {\n",
              "      border-color: transparent;\n",
              "      border-left-color: var(--fill-color);\n",
              "      border-top-color: var(--fill-color);\n",
              "      border-right-color: var(--fill-color);\n",
              "    }\n",
              "    40% {\n",
              "      border-color: transparent;\n",
              "      border-right-color: var(--fill-color);\n",
              "      border-top-color: var(--fill-color);\n",
              "    }\n",
              "    60% {\n",
              "      border-color: transparent;\n",
              "      border-right-color: var(--fill-color);\n",
              "    }\n",
              "    80% {\n",
              "      border-color: transparent;\n",
              "      border-right-color: var(--fill-color);\n",
              "      border-bottom-color: var(--fill-color);\n",
              "    }\n",
              "    90% {\n",
              "      border-color: transparent;\n",
              "      border-bottom-color: var(--fill-color);\n",
              "    }\n",
              "  }\n",
              "</style>\n",
              "\n",
              "  <script>\n",
              "    async function quickchart(key) {\n",
              "      const quickchartButtonEl =\n",
              "        document.querySelector('#' + key + ' button');\n",
              "      quickchartButtonEl.disabled = true;  // To prevent multiple clicks.\n",
              "      quickchartButtonEl.classList.add('colab-df-spinner');\n",
              "      try {\n",
              "        const charts = await google.colab.kernel.invokeFunction(\n",
              "            'suggestCharts', [key], {});\n",
              "      } catch (error) {\n",
              "        console.error('Error during call to suggestCharts:', error);\n",
              "      }\n",
              "      quickchartButtonEl.classList.remove('colab-df-spinner');\n",
              "      quickchartButtonEl.classList.add('colab-df-quickchart-complete');\n",
              "    }\n",
              "    (() => {\n",
              "      let quickchartButtonEl =\n",
              "        document.querySelector('#df-b2916440-33fb-4bc9-9d3f-f92429f4bdc7 button');\n",
              "      quickchartButtonEl.style.display =\n",
              "        google.colab.kernel.accessAllowed ? 'block' : 'none';\n",
              "    })();\n",
              "  </script>\n",
              "</div>\n",
              "\n",
              "    </div>\n",
              "  </div>\n"
            ],
            "application/vnd.google.colaboratory.intrinsic+json": {
              "type": "dataframe",
              "summary": "{\n  \"name\": \"get_ipython()\",\n  \"rows\": 243,\n  \"fields\": [\n    {\n      \"column\": \"id\",\n      \"properties\": {\n        \"dtype\": \"number\",\n        \"std\": 70,\n        \"min\": 1,\n        \"max\": 243,\n        \"num_unique_values\": 243,\n        \"samples\": [\n          25,\n          7,\n          153\n        ],\n        \"semantic_type\": \"\",\n        \"description\": \"\"\n      }\n    },\n    {\n      \"column\": \"Country\",\n      \"properties\": {\n        \"dtype\": \"string\",\n        \"num_unique_values\": 243,\n        \"samples\": [\n          \"Bhutan\",\n          \"Anguilla\",\n          \"Netherlands\"\n        ],\n        \"semantic_type\": \"\",\n        \"description\": \"\"\n      }\n    },\n    {\n      \"column\": \"Alpha2_code\",\n      \"properties\": {\n        \"dtype\": \"string\",\n        \"num_unique_values\": 243,\n        \"samples\": [\n          \"BT\",\n          \"AI\",\n          \"NL\"\n        ],\n        \"semantic_type\": \"\",\n        \"description\": \"\"\n      }\n    },\n    {\n      \"column\": \"Alpha3_code\",\n      \"properties\": {\n        \"dtype\": \"string\",\n        \"num_unique_values\": 243,\n        \"samples\": [\n          \"BTN\",\n          \"AIA\",\n          \"NLD\"\n        ],\n        \"semantic_type\": \"\",\n        \"description\": \"\"\n      }\n    },\n    {\n      \"column\": \"Numeric_code\",\n      \"properties\": {\n        \"dtype\": \"number\",\n        \"std\": 253,\n        \"min\": 4,\n        \"max\": 894,\n        \"num_unique_values\": 243,\n        \"samples\": [\n          64,\n          660,\n          528\n        ],\n        \"semantic_type\": \"\",\n        \"description\": \"\"\n      }\n    },\n    {\n      \"column\": \"Latitude\",\n      \"properties\": {\n        \"dtype\": \"number\",\n        \"std\": 27.04609502378721,\n        \"min\": -90.0,\n        \"max\": 78.0,\n        \"num_unique_values\": 176,\n        \"samples\": [\n          53.0,\n          -1.0,\n          -24.7\n        ],\n        \"semantic_type\": \"\",\n        \"description\": \"\"\n      }\n    },\n    {\n      \"column\": \"Longitude\",\n      \"properties\": {\n        \"dtype\": \"number\",\n        \"std\": 74.32329363002586,\n        \"min\": -176.2,\n        \"max\": 178.0,\n        \"num_unique_values\": 195,\n        \"samples\": [\n          8.0,\n          50.55,\n          -62.75\n        ],\n        \"semantic_type\": \"\",\n        \"description\": \"\"\n      }\n    }\n  ]\n}"
            }
          },
          "metadata": {},
          "execution_count": 61
        }
      ],
      "source": [
        "%%sql\n",
        "\n",
        "SELECT * FROM 'https://open.gishub.org/data/duckdb/countries.csv';"
      ],
      "id": "8KWp4DLNmCMZ"
    },
    {
      "cell_type": "markdown",
      "metadata": {
        "id": "uZpXib47mCMZ"
      },
      "source": [
        "## Create Table\n",
        "\n",
        "Create a table named `cities` from the `cities.csv` file."
      ],
      "id": "uZpXib47mCMZ"
    },
    {
      "cell_type": "code",
      "execution_count": 62,
      "metadata": {
        "id": "3ZbBy4hHmCMZ",
        "outputId": "99c027f0-f056-4f46-89ff-a610be2a95f3",
        "colab": {
          "base_uri": "https://localhost:8080/"
        }
      },
      "outputs": [
        {
          "output_type": "stream",
          "name": "stderr",
          "text": [
            "RuntimeError: (duckdb.duckdb.CatalogException) Catalog Error: Table with name \"cities\" already exists!\n",
            "[SQL: CREATE TABLE cities AS SELECT * FROM 'https://open.gishub.org/data/duckdb/cities.csv';]\n",
            "(Background on this error at: https://sqlalche.me/e/20/f405)\n",
            "If you need help solving this issue, send us a message: https://ploomber.io/community\n"
          ]
        }
      ],
      "source": [
        "%%sql\n",
        "\n",
        "CREATE TABLE cities AS SELECT * FROM 'https://open.gishub.org/data/duckdb/cities.csv';"
      ],
      "id": "3ZbBy4hHmCMZ"
    },
    {
      "cell_type": "markdown",
      "metadata": {
        "id": "PA8UjCYYmCMa"
      },
      "source": [
        "Create a table named `countries` from the `countries.csv` file."
      ],
      "id": "PA8UjCYYmCMa"
    },
    {
      "cell_type": "code",
      "execution_count": null,
      "metadata": {
        "id": "CYcldWCYmCMa"
      },
      "outputs": [],
      "source": [
        "%%sql\n",
        "\n",
        "CREATE TABLE countries AS SELECT * FROM 'https://open.gishub.org/data/duckdb/countries.csv';"
      ],
      "id": "CYcldWCYmCMa"
    },
    {
      "cell_type": "markdown",
      "metadata": {
        "id": "g1hWkBBimCMa"
      },
      "source": [
        "Display the table content in the database."
      ],
      "id": "g1hWkBBimCMa"
    },
    {
      "cell_type": "code",
      "execution_count": null,
      "metadata": {
        "id": "m2cwq-S6mCMa"
      },
      "outputs": [],
      "source": [
        "%%sql\n",
        "\n",
        "FROM cities;"
      ],
      "id": "m2cwq-S6mCMa"
    },
    {
      "cell_type": "code",
      "execution_count": null,
      "metadata": {
        "id": "G4tdPIS1mCMa"
      },
      "outputs": [],
      "source": [
        "%%sql\n",
        "\n",
        "FROM countries;"
      ],
      "id": "G4tdPIS1mCMa"
    },
    {
      "cell_type": "markdown",
      "metadata": {
        "id": "p_pLeL0RmCMa"
      },
      "source": [
        "## The SQL SELECT statement\n",
        "\n",
        "The `SELECT` statement is used to select data from a database. Use either `SELECT *` to select all columns, or `SELECT column1, column2, ...` to select specific columns.\n",
        "\n",
        "`SELECT * FROM cities` is the same as `FROM cities`."
      ],
      "id": "p_pLeL0RmCMa"
    },
    {
      "cell_type": "code",
      "execution_count": null,
      "metadata": {
        "scrolled": true,
        "tags": [
          "hide-output"
        ],
        "id": "3IzQH30FmCMa"
      },
      "outputs": [],
      "source": [
        "%%sql\n",
        "\n",
        "SELECT * FROM cities;"
      ],
      "id": "3IzQH30FmCMa"
    },
    {
      "cell_type": "markdown",
      "metadata": {
        "id": "sdGe8UgimCMa"
      },
      "source": [
        "To limit the number of rows returned, use the `LIMIT` keyword. For example, `SELECT * FROM cities LIMIT 10` will return only the first 10 rows."
      ],
      "id": "sdGe8UgimCMa"
    },
    {
      "cell_type": "code",
      "execution_count": null,
      "metadata": {
        "scrolled": false,
        "id": "THBv_O8QmCMa"
      },
      "outputs": [],
      "source": [
        "%%sql\n",
        "\n",
        "SELECT * FROM cities LIMIT 10;"
      ],
      "id": "THBv_O8QmCMa"
    },
    {
      "cell_type": "markdown",
      "metadata": {
        "id": "RCsRnwnTmCMa"
      },
      "source": [
        "Select a subset of columns from the `cities` table and display the first 10 rows."
      ],
      "id": "RCsRnwnTmCMa"
    },
    {
      "cell_type": "code",
      "execution_count": null,
      "metadata": {
        "scrolled": false,
        "id": "PZ50CKvYmCMa"
      },
      "outputs": [],
      "source": [
        "%%sql\n",
        "\n",
        "SELECT name, country FROM cities LIMIT 10;"
      ],
      "id": "PZ50CKvYmCMa"
    },
    {
      "cell_type": "markdown",
      "metadata": {
        "id": "Dns68MtOmCMa"
      },
      "source": [
        "To select distinct values, use the `DISTINCT` keyword. For example, `SELECT DISTINCT country FROM cities` will return only the distinct values of the `country` column."
      ],
      "id": "Dns68MtOmCMa"
    },
    {
      "cell_type": "code",
      "execution_count": null,
      "metadata": {
        "id": "8R4n9LhSmCMa"
      },
      "outputs": [],
      "source": [
        "%%sql\n",
        "\n",
        "SELECT DISTINCT country FROM cities LIMIT 10;"
      ],
      "id": "8R4n9LhSmCMa"
    },
    {
      "cell_type": "markdown",
      "metadata": {
        "id": "e4BaFZ5XmCMa"
      },
      "source": [
        "To count the number of rows returned, use the `COUNT(*)` function. For example, `SELECT COUNT(*) FROM cities` will return the number of rows in the `cities` table."
      ],
      "id": "e4BaFZ5XmCMa"
    },
    {
      "cell_type": "code",
      "execution_count": null,
      "metadata": {
        "id": "NLmkF6MMmCMa"
      },
      "outputs": [],
      "source": [
        "%%sql\n",
        "\n",
        "SELECT COUNT(*) FROM cities;"
      ],
      "id": "NLmkF6MMmCMa"
    },
    {
      "cell_type": "markdown",
      "metadata": {
        "id": "NrEwUISQmCMa"
      },
      "source": [
        "To count the number of distinct values, use the `COUNT(DISTINCT column)` function. For example, `SELECT COUNT(DISTINCT country) FROM cities` will return the number of distinct values in the `country` column."
      ],
      "id": "NrEwUISQmCMa"
    },
    {
      "cell_type": "code",
      "execution_count": null,
      "metadata": {
        "id": "rvHo4NkzmCMa"
      },
      "outputs": [],
      "source": [
        "%%sql\n",
        "\n",
        "SELECT COUNT(DISTINCT country) FROM cities;"
      ],
      "id": "rvHo4NkzmCMa"
    },
    {
      "cell_type": "markdown",
      "metadata": {
        "id": "DXrQ6YqamCMa"
      },
      "source": [
        "To calculate the maximum value, use the `MAX(column)` function. For example, `SELECT MAX(population) FROM cities` will return the maximum value in the `population` column."
      ],
      "id": "DXrQ6YqamCMa"
    },
    {
      "cell_type": "code",
      "execution_count": null,
      "metadata": {
        "id": "uBv6EXdAmCMa"
      },
      "outputs": [],
      "source": [
        "%%sql\n",
        "\n",
        "SELECT MAX(population) FROM cities;"
      ],
      "id": "uBv6EXdAmCMa"
    },
    {
      "cell_type": "markdown",
      "metadata": {
        "id": "WVjKOrkrmCMb"
      },
      "source": [
        "To calculate the total value, use the `SUM(column)` function. For example, `SELECT SUM(population) FROM cities` will return the total value in the `population` column."
      ],
      "id": "WVjKOrkrmCMb"
    },
    {
      "cell_type": "code",
      "execution_count": null,
      "metadata": {
        "id": "NYMg2QiWmCMb"
      },
      "outputs": [],
      "source": [
        "%%sql\n",
        "\n",
        "SELECT SUM(population) FROM cities;"
      ],
      "id": "NYMg2QiWmCMb"
    },
    {
      "cell_type": "markdown",
      "metadata": {
        "id": "JjBu2CMkmCMb"
      },
      "source": [
        "To calculate the average value, use the `AVG(column)` function. For example, `SELECT AVG(population) FROM cities` will return the average value in the `population` column."
      ],
      "id": "JjBu2CMkmCMb"
    },
    {
      "cell_type": "code",
      "execution_count": null,
      "metadata": {
        "id": "7t0lCRY9mCMb"
      },
      "outputs": [],
      "source": [
        "%%sql\n",
        "\n",
        "SELECT AVG(population) FROM cities;"
      ],
      "id": "7t0lCRY9mCMb"
    },
    {
      "cell_type": "markdown",
      "metadata": {
        "id": "-Hn6RRJ1mCMb"
      },
      "source": [
        "To order the results, use the `ORDER BY column` clause. For example, `SELECT * FROM cities ORDER BY country` will return the rows ordered by the `country` column alphabetically."
      ],
      "id": "-Hn6RRJ1mCMb"
    },
    {
      "cell_type": "code",
      "execution_count": null,
      "metadata": {
        "id": "5pQfjteumCMb"
      },
      "outputs": [],
      "source": [
        "%%sql\n",
        "\n",
        "SELECT * FROM cities ORDER BY country LIMIT 10;"
      ],
      "id": "5pQfjteumCMb"
    },
    {
      "cell_type": "markdown",
      "metadata": {
        "id": "dsiz9F0QmCMb"
      },
      "source": [
        "To order the results in descending order, use the `ORDER BY column DESC` clause. For example, `SELECT * FROM cities ORDER BY country ASC, population DESC` will return the rows ordered by the `country` column alphabetical order and then by the `population` column in descending order."
      ],
      "id": "dsiz9F0QmCMb"
    },
    {
      "cell_type": "code",
      "execution_count": null,
      "metadata": {
        "id": "NiHPWW9nmCMb"
      },
      "outputs": [],
      "source": [
        "%%sql\n",
        "\n",
        "SELECT * FROM cities ORDER BY country ASC, population DESC LIMIT 10;"
      ],
      "id": "NiHPWW9nmCMb"
    },
    {
      "cell_type": "markdown",
      "metadata": {
        "id": "NGlbiqwumCMb"
      },
      "source": [
        "## The WHERE Clause\n",
        "\n",
        "The `WHERE` clause is used to filter records. The `WHERE` clause is used to extract only those records that fulfill a specified condition."
      ],
      "id": "NGlbiqwumCMb"
    },
    {
      "cell_type": "code",
      "execution_count": null,
      "metadata": {
        "scrolled": true,
        "tags": [
          "hide-output"
        ],
        "id": "50KdbDWwmCMb"
      },
      "outputs": [],
      "source": [
        "%%sql\n",
        "\n",
        "SELECT * FROM cities WHERE country='USA'"
      ],
      "id": "50KdbDWwmCMb"
    },
    {
      "cell_type": "markdown",
      "metadata": {
        "id": "X8nYeW0amCMb"
      },
      "source": [
        "You can use boolean operators such as `AND`, `OR`, `NOT` to filter records. For example, `SELECT * FROM cities WHERE country='USA' OR country='CAN'` will return the rows where the `country` column is either `USA` or `CAN`."
      ],
      "id": "X8nYeW0amCMb"
    },
    {
      "cell_type": "code",
      "execution_count": null,
      "metadata": {
        "scrolled": false,
        "tags": [
          "hide-output"
        ],
        "id": "cuJ63PEGmCMb"
      },
      "outputs": [],
      "source": [
        "%%sql\n",
        "\n",
        "SELECT * FROM cities WHERE country='USA' OR country='CAN';"
      ],
      "id": "cuJ63PEGmCMb"
    },
    {
      "cell_type": "markdown",
      "metadata": {
        "id": "zG-I730ImCMb"
      },
      "source": [
        "To select US cities with a population greater than 1 million, use the following query: `SELECT * FROM cities WHERE country='USA' AND population > 1000000`."
      ],
      "id": "zG-I730ImCMb"
    },
    {
      "cell_type": "code",
      "execution_count": null,
      "metadata": {
        "tags": [
          "hide-output"
        ],
        "id": "-o24KWFdmCMb"
      },
      "outputs": [],
      "source": [
        "%%sql\n",
        "\n",
        "SELECT * FROM cities WHERE country='USA' AND population>1000000;"
      ],
      "id": "-o24KWFdmCMb"
    },
    {
      "cell_type": "markdown",
      "metadata": {
        "id": "MI0nAXrfmCMb"
      },
      "source": [
        "To select cities with the country name starting with the letter `U`, use the following query: `SELECT * FROM cities WHERE country LIKE 'U%'`."
      ],
      "id": "MI0nAXrfmCMb"
    },
    {
      "cell_type": "code",
      "execution_count": null,
      "metadata": {
        "scrolled": false,
        "tags": [
          "hide-output"
        ],
        "id": "eEtE7Dg2mCMb"
      },
      "outputs": [],
      "source": [
        "%%sql\n",
        "\n",
        "SELECT * FROM cities WHERE country LIKE 'U%';"
      ],
      "id": "eEtE7Dg2mCMb"
    },
    {
      "cell_type": "markdown",
      "metadata": {
        "id": "YkU6ruAnmCMb"
      },
      "source": [
        "To select cities with the country name ending with the letter `A`, use the following query: `SELECT * FROM cities WHERE country LIKE '%A'`."
      ],
      "id": "YkU6ruAnmCMb"
    },
    {
      "cell_type": "code",
      "execution_count": null,
      "metadata": {
        "tags": [
          "hide-output"
        ],
        "id": "ThofBkGTmCMb"
      },
      "outputs": [],
      "source": [
        "%%sql\n",
        "\n",
        "SELECT * FROM cities WHERE country LIKE '%A';"
      ],
      "id": "ThofBkGTmCMb"
    },
    {
      "cell_type": "markdown",
      "metadata": {
        "id": "sigKKI_KmCMb"
      },
      "source": [
        "To select cities with the country name containing the letter `S` in the middle, use the following query: `SELECT * FROM cities WHERE country LIKE '_S_'`."
      ],
      "id": "sigKKI_KmCMb"
    },
    {
      "cell_type": "code",
      "execution_count": null,
      "metadata": {
        "tags": [
          "hide-output"
        ],
        "id": "-xC3pszhmCMb"
      },
      "outputs": [],
      "source": [
        "%%sql\n",
        "\n",
        "SELECT * FROM cities WHERE country LIKE '_S_';"
      ],
      "id": "-xC3pszhmCMb"
    },
    {
      "cell_type": "markdown",
      "metadata": {
        "id": "2iXLW2yumCMb"
      },
      "source": [
        "To select cities from a list of countries, use the `IN` operator. For example, `SELECT * FROM cities WHERE country IN ('USA', 'CAN')` will return the rows where the `country` column is either `USA` or `CAN`."
      ],
      "id": "2iXLW2yumCMb"
    },
    {
      "cell_type": "code",
      "execution_count": null,
      "metadata": {
        "tags": [
          "hide-output"
        ],
        "id": "B33gAbSGmCMb"
      },
      "outputs": [],
      "source": [
        "%%sql\n",
        "\n",
        "SELECT * FROM cities WHERE country IN ('USA', 'CAN');"
      ],
      "id": "B33gAbSGmCMb"
    },
    {
      "cell_type": "markdown",
      "metadata": {
        "id": "71B4x6ZKmCMb"
      },
      "source": [
        "To select cities with a population between 1 and 10 million, use the following query: `SELECT * FROM cities WHERE population BETWEEN 1000000 AND 10000000`."
      ],
      "id": "71B4x6ZKmCMb"
    },
    {
      "cell_type": "code",
      "execution_count": null,
      "metadata": {
        "scrolled": false,
        "tags": [
          "hide-output"
        ],
        "id": "W_bM-Y8FmCMb"
      },
      "outputs": [],
      "source": [
        "%%sql\n",
        "\n",
        "SELECT * FROM cities WHERE population BETWEEN 1000000 AND 10000000;"
      ],
      "id": "W_bM-Y8FmCMb"
    },
    {
      "cell_type": "markdown",
      "metadata": {
        "id": "n-toZ2CumCMb"
      },
      "source": [
        "## SQL Joins\n",
        "\n",
        "Reference: https://www.w3schools.com/sql/sql_join.asp\n",
        "\n",
        "Here are the different types of the JOINs in SQL:\n",
        "\n",
        "- `(INNER) JOIN`: Returns records that have matching values in both tables\n",
        "- `LEFT (OUTER) JOIN`: Returns all records from the left table, and the matched records from the right table\n",
        "- `RIGHT (OUTER) JOIN`: Returns all records from the right table, and the matched records from the left table\n",
        "- `FULL (OUTER) JOIN`: Returns all records when there is a match in either left or right table\n",
        "\n",
        "![](https://i.imgur.com/mITYzuS.png)\n",
        "\n",
        "We have two sample tables: `cities` and `countries`.\n",
        "\n",
        "There are 1,249 cities in the `cities` table and 243 countries in the `countries` table."
      ],
      "id": "n-toZ2CumCMb"
    },
    {
      "cell_type": "code",
      "execution_count": null,
      "metadata": {
        "id": "1ZAI9Fs1mCMb"
      },
      "outputs": [],
      "source": [
        "%%sql\n",
        "\n",
        "SELECT COUNT(*) FROM cities;"
      ],
      "id": "1ZAI9Fs1mCMb"
    },
    {
      "cell_type": "code",
      "execution_count": null,
      "metadata": {
        "id": "jXTUx-sjmCMc"
      },
      "outputs": [],
      "source": [
        "%%sql\n",
        "\n",
        "SELECT * FROM cities LIMIT 10;"
      ],
      "id": "jXTUx-sjmCMc"
    },
    {
      "cell_type": "code",
      "execution_count": null,
      "metadata": {
        "id": "WjWuzNh2mCMc"
      },
      "outputs": [],
      "source": [
        "%%sql\n",
        "\n",
        "SELECT COUNT(*) FROM countries;"
      ],
      "id": "WjWuzNh2mCMc"
    },
    {
      "cell_type": "code",
      "execution_count": null,
      "metadata": {
        "id": "Lx47SmOHmCMc"
      },
      "outputs": [],
      "source": [
        "%%sql\n",
        "\n",
        "SELECT * FROM countries LIMIT 10;"
      ],
      "id": "Lx47SmOHmCMc"
    },
    {
      "cell_type": "markdown",
      "metadata": {
        "id": "1mAkeeedmCMc"
      },
      "source": [
        "### SQL Inner Join\n",
        "\n",
        "The `INNER JOIN` keyword selects records that have matching values in both tables. In the example, we join the `cities` table with the `countries` table using the `country` column in the `cities` table and the `Alpha3_code` column in the `countries` table. The result contains 1,244 rows, indicating that there are 5 cities that do not have a matching country."
      ],
      "id": "1mAkeeedmCMc"
    },
    {
      "cell_type": "code",
      "execution_count": null,
      "metadata": {
        "tags": [
          "hide-output"
        ],
        "id": "BO59HLQsmCMc"
      },
      "outputs": [],
      "source": [
        "%%sql\n",
        "\n",
        "SELECT * FROM cities INNER JOIN countries ON cities.country = countries.\"Alpha3_code\";"
      ],
      "id": "BO59HLQsmCMc"
    },
    {
      "cell_type": "markdown",
      "metadata": {
        "id": "ndQB1Yb-mCMc"
      },
      "source": [
        "Only select the `city` and `country` columns from the `cities` table and the `Country` column from the `countries` table."
      ],
      "id": "ndQB1Yb-mCMc"
    },
    {
      "cell_type": "code",
      "execution_count": null,
      "metadata": {
        "tags": [
          "hide-output"
        ],
        "id": "7HI4SIlymCMc"
      },
      "outputs": [],
      "source": [
        "%%sql\n",
        "\n",
        "SELECT name, cities.\"country\", countries.\"Country\" FROM cities INNER JOIN countries ON cities.country = countries.\"Alpha3_code\";"
      ],
      "id": "7HI4SIlymCMc"
    },
    {
      "cell_type": "markdown",
      "metadata": {
        "id": "XfPG-WmymCMc"
      },
      "source": [
        "### SQL Left Join\n",
        "\n",
        "The `LEFT JOIN` keyword returns all records from the left table (`cities`), and the matched records from the right table (`countries`). The result contains 1,249 rows, the same number of rows as the `cities` table."
      ],
      "id": "XfPG-WmymCMc"
    },
    {
      "cell_type": "code",
      "execution_count": null,
      "metadata": {
        "tags": [
          "hide-output"
        ],
        "id": "4ya0XNQUmCMc"
      },
      "outputs": [],
      "source": [
        "%%sql\n",
        "\n",
        "SELECT * FROM cities LEFT JOIN countries ON cities.country = countries.\"Alpha3_code\";"
      ],
      "id": "4ya0XNQUmCMc"
    },
    {
      "cell_type": "markdown",
      "metadata": {
        "id": "dENAQLWYmCMc"
      },
      "source": [
        "### SQL Right Join\n",
        "\n",
        "The `RIGHT JOIN` keyword returns all records from the right table (`countries`), and the matched records from the left table (`cities`). The result contains 1,291 rows."
      ],
      "id": "dENAQLWYmCMc"
    },
    {
      "cell_type": "code",
      "execution_count": null,
      "metadata": {
        "tags": [
          "hide-output"
        ],
        "id": "-EqrLlzzmCMc"
      },
      "outputs": [],
      "source": [
        "%%sql\n",
        "\n",
        "SELECT * FROM cities RIGHT JOIN countries ON cities.country = countries.\"Alpha3_code\";"
      ],
      "id": "-EqrLlzzmCMc"
    },
    {
      "cell_type": "markdown",
      "metadata": {
        "id": "TEUt3KxAmCMc"
      },
      "source": [
        "### SQL Full Join\n",
        "\n",
        "The `FULL JOIN` keyword returns all records when there is a match in either left or right table. The result contains 1,296 rows."
      ],
      "id": "TEUt3KxAmCMc"
    },
    {
      "cell_type": "code",
      "execution_count": null,
      "metadata": {
        "tags": [
          "hide-output"
        ],
        "id": "yoMehEsYmCMc"
      },
      "outputs": [],
      "source": [
        "%%sql\n",
        "\n",
        "SELECT * FROM cities FULL JOIN countries ON cities.country = countries.\"Alpha3_code\";"
      ],
      "id": "yoMehEsYmCMc"
    },
    {
      "cell_type": "markdown",
      "metadata": {
        "id": "vrnSWY0LmCMc"
      },
      "source": [
        "### SQL Union\n",
        "\n",
        "The `UNION` operator is used to combine the result-set of two or more `SELECT` statements."
      ],
      "id": "vrnSWY0LmCMc"
    },
    {
      "cell_type": "code",
      "execution_count": null,
      "metadata": {
        "tags": [
          "hide-output"
        ],
        "id": "_PI7xUGwmCMc"
      },
      "outputs": [],
      "source": [
        "%%sql\n",
        "\n",
        "SELECT country FROM cities\n",
        "UNION\n",
        "SELECT \"Alpha3_code\" FROM countries;"
      ],
      "id": "_PI7xUGwmCMc"
    },
    {
      "cell_type": "markdown",
      "metadata": {
        "id": "vLKaBXXimCMc"
      },
      "source": [
        "## Aggregation\n",
        "\n",
        "### Group By\n",
        "\n",
        "The `GROUP BY` statement groups rows that have the same values into summary rows, like \"find the number of cities in each country\".\n",
        "\n",
        "The `GROUP BY` statement is often used with aggregate functions (`COUNT`, `MAX`, `MIN`, `SUM`, `AVG`) to group the result-set by one or more columns."
      ],
      "id": "vLKaBXXimCMc"
    },
    {
      "cell_type": "code",
      "execution_count": null,
      "metadata": {
        "scrolled": true,
        "tags": [
          "hide-output"
        ],
        "id": "Qa4_sbEwmCMc"
      },
      "outputs": [],
      "source": [
        "%%sql\n",
        "\n",
        "SELECT COUNT(name), country\n",
        "FROM cities\n",
        "GROUP BY country\n",
        "ORDER BY COUNT(name) DESC;"
      ],
      "id": "Qa4_sbEwmCMc"
    },
    {
      "cell_type": "code",
      "execution_count": null,
      "metadata": {
        "tags": [
          "hide-output"
        ],
        "id": "TXXRcTBlmCMc"
      },
      "outputs": [],
      "source": [
        "%%sql\n",
        "\n",
        "SELECT countries.\"Country\", COUNT(name)\n",
        "FROM cities\n",
        "LEFT JOIN countries ON cities.country = countries.\"Alpha3_code\"\n",
        "GROUP BY countries.\"Country\"\n",
        "ORDER BY COUNT(name) DESC;"
      ],
      "id": "TXXRcTBlmCMc"
    },
    {
      "cell_type": "markdown",
      "metadata": {
        "id": "g5d6EVFDmCMc"
      },
      "source": [
        "### Having\n",
        "\n",
        "The `HAVING` clause was added to SQL because the `WHERE` keyword could not be used with aggregate functions.\n",
        "\n",
        "For example, to select countries with more than 40 cities:"
      ],
      "id": "g5d6EVFDmCMc"
    },
    {
      "cell_type": "code",
      "execution_count": null,
      "metadata": {
        "id": "QoYl8wq8mCMc"
      },
      "outputs": [],
      "source": [
        "%%sql\n",
        "\n",
        "SELECT COUNT(name), country\n",
        "FROM cities\n",
        "GROUP BY country\n",
        "HAVING COUNT(name) > 40\n",
        "ORDER BY COUNT(name) DESC;"
      ],
      "id": "QoYl8wq8mCMc"
    },
    {
      "cell_type": "code",
      "execution_count": null,
      "metadata": {
        "id": "IYFJUfWemCMd"
      },
      "outputs": [],
      "source": [
        "%%sql\n",
        "\n",
        "SELECT countries.\"Country\", COUNT(name)\n",
        "FROM cities\n",
        "LEFT JOIN countries ON cities.country = countries.\"Alpha3_code\"\n",
        "GROUP BY countries.\"Country\"\n",
        "HAVING COUNT(name) > 40\n",
        "ORDER BY COUNT(name) DESC;"
      ],
      "id": "IYFJUfWemCMd"
    },
    {
      "cell_type": "markdown",
      "metadata": {
        "id": "Z4BRQqtgmCMd"
      },
      "source": [
        "## Conditional statements\n",
        "\n",
        "The `CASE` statement goes through conditions and returns a value when the first condition is met (like an `IF-THEN-ELSE` statement). So, once a condition is true, it will stop reading and return the result. If no conditions are true, it returns the value in the `ELSE` clause.\n",
        "\n",
        "For example, to divide cities into 3 groups based on their population:"
      ],
      "id": "Z4BRQqtgmCMd"
    },
    {
      "cell_type": "code",
      "execution_count": null,
      "metadata": {
        "scrolled": false,
        "tags": [
          "hide-output"
        ],
        "id": "72qxwlFGmCMd"
      },
      "outputs": [],
      "source": [
        "%%sql\n",
        "\n",
        "SELECT name, population,\n",
        "CASE\n",
        "    WHEN population > 10000000 THEN 'Megacity'\n",
        "    WHEN population > 1000000 THEN 'Large city'\n",
        "    ELSE 'Small city'\n",
        "END AS category\n",
        "FROM cities;"
      ],
      "id": "72qxwlFGmCMd"
    },
    {
      "cell_type": "markdown",
      "metadata": {
        "id": "hVeudbF7mCMd"
      },
      "source": [
        "## Saving results\n",
        "\n",
        "You can save the results of a query to a new table using the `CREATE TABLE AS` statement."
      ],
      "id": "hVeudbF7mCMd"
    },
    {
      "cell_type": "code",
      "execution_count": null,
      "metadata": {
        "id": "xA8mvPN2mCMd"
      },
      "outputs": [],
      "source": [
        "%%sql\n",
        "\n",
        "CREATE TABLE cities2 AS SELECT * FROM cities;"
      ],
      "id": "xA8mvPN2mCMd"
    },
    {
      "cell_type": "markdown",
      "metadata": {
        "id": "eGdY9M8umCMd"
      },
      "source": [
        "Show the new table content."
      ],
      "id": "eGdY9M8umCMd"
    },
    {
      "cell_type": "code",
      "execution_count": null,
      "metadata": {
        "id": "6_pBxfBQmCMd"
      },
      "outputs": [],
      "source": [
        "%%sql\n",
        "\n",
        "FROM cities2;"
      ],
      "id": "6_pBxfBQmCMd"
    },
    {
      "cell_type": "markdown",
      "metadata": {
        "id": "wzp_ua2FmCMd"
      },
      "source": [
        "Use the `DROP TABLE` statement to delete the table."
      ],
      "id": "wzp_ua2FmCMd"
    },
    {
      "cell_type": "code",
      "execution_count": null,
      "metadata": {
        "id": "i5ztn0yLmCMd"
      },
      "outputs": [],
      "source": [
        "%%sql\n",
        "\n",
        "DROP TABLE IF EXISTS cities_usa;\n",
        "CREATE TABLE cities_usa AS (SELECT * FROM cities WHERE country = 'USA');"
      ],
      "id": "i5ztn0yLmCMd"
    },
    {
      "cell_type": "code",
      "execution_count": null,
      "metadata": {
        "id": "Q8VAYNTKmCMd"
      },
      "outputs": [],
      "source": [
        "%%sql\n",
        "\n",
        "FROM cities_usa;"
      ],
      "id": "Q8VAYNTKmCMd"
    },
    {
      "cell_type": "markdown",
      "metadata": {
        "id": "KUwE7Ab3mCMd"
      },
      "source": [
        "Use the `INSERT INTO` statement to insert rows into a table."
      ],
      "id": "KUwE7Ab3mCMd"
    },
    {
      "cell_type": "code",
      "execution_count": null,
      "metadata": {
        "id": "QFXV3CZpmCMd"
      },
      "outputs": [],
      "source": [
        "%%sql\n",
        "\n",
        "INSERT INTO cities_usa (SELECT * FROM cities WHERE country = 'CAN');"
      ],
      "id": "QFXV3CZpmCMd"
    },
    {
      "cell_type": "markdown",
      "metadata": {
        "id": "WHl7wpWfmCMd"
      },
      "source": [
        "## SQL Comments\n",
        "\n",
        "Comments are used to explain sections of SQL statements, or to prevent execution of SQL statements.\n",
        "\n",
        "\n",
        "### Single line comMents\n",
        "\n",
        "Single line comments start with --.\n",
        "\n",
        "Any text between -- and the end of the line will be ignored (will not be executed).\n",
        "\n",
        "The following example uses a single-line comment as an explanation:"
      ],
      "id": "WHl7wpWfmCMd"
    },
    {
      "cell_type": "code",
      "execution_count": null,
      "metadata": {
        "id": "xmraQ7gmmCMd"
      },
      "outputs": [],
      "source": [
        "%%sql\n",
        "\n",
        "SELECT * FROM cities LIMIT 10 -- This is a comment;"
      ],
      "id": "xmraQ7gmmCMd"
    },
    {
      "cell_type": "markdown",
      "metadata": {
        "id": "T1ZpvMyTmCMd"
      },
      "source": [
        "### Multi-line comments\n",
        "\n",
        "Multi-line comments start with `/*` and end with `*/`.\n",
        "\n",
        "Any text between `/*` and `*/` will be ignored.\n",
        "\n",
        "The following example uses a multi-line comment as an explanation:"
      ],
      "id": "T1ZpvMyTmCMd"
    },
    {
      "cell_type": "code",
      "execution_count": null,
      "metadata": {
        "id": "V-oPFBPMmCMd"
      },
      "outputs": [],
      "source": [
        "%%sql\n",
        "\n",
        "SELECT COUNT(name), country\n",
        "FROM cities\n",
        "/*\n",
        " * Adding Group by\n",
        " * Adding Order by\n",
        " */\n",
        "GROUP BY country\n",
        "ORDER BY COUNT(name) DESC\n",
        "LIMIT 10;"
      ],
      "id": "V-oPFBPMmCMd"
    }
  ],
  "metadata": {
    "celltoolbar": "Tags",
    "hide_input": false,
    "kernelspec": {
      "display_name": "Python 3",
      "language": "python",
      "name": "python3"
    },
    "language_info": {
      "codemirror_mode": {
        "name": "ipython",
        "version": 3
      },
      "file_extension": ".py",
      "mimetype": "text/x-python",
      "name": "python",
      "nbconvert_exporter": "python",
      "pygments_lexer": "ipython3",
      "version": "3.9.18"
    },
    "toc": {
      "base_numbering": 1,
      "nav_menu": {},
      "number_sections": true,
      "sideBar": true,
      "skip_h1_title": false,
      "title_cell": "Table of Contents",
      "title_sidebar": "Contents",
      "toc_cell": false,
      "toc_position": {},
      "toc_section_display": true,
      "toc_window_display": false
    },
    "varInspector": {
      "cols": {
        "lenName": 16,
        "lenType": 16,
        "lenVar": 40
      },
      "kernels_config": {
        "python": {
          "delete_cmd_postfix": "",
          "delete_cmd_prefix": "del ",
          "library": "var_list.py",
          "varRefreshCmd": "print(var_dic_list())"
        },
        "r": {
          "delete_cmd_postfix": ") ",
          "delete_cmd_prefix": "rm(",
          "library": "var_list.r",
          "varRefreshCmd": "cat(var_dic_list()) "
        }
      },
      "types_to_exclude": [
        "module",
        "function",
        "builtin_function_or_method",
        "instance",
        "_Feature"
      ],
      "window_display": false
    },
    "colab": {
      "provenance": []
    }
  },
  "nbformat": 4,
  "nbformat_minor": 5
}